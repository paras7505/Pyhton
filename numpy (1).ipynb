{
 "cells": [
  {
   "cell_type": "code",
   "execution_count": 109,
   "metadata": {
    "id": "zle3E6XQIwIh"
   },
   "outputs": [],
   "source": [
    "import numpy as np"
   ]
  },
  {
   "cell_type": "code",
   "execution_count": null,
   "metadata": {
    "colab": {
     "base_uri": "https://localhost:8080/"
    },
    "id": "hubT3M5oHgPf",
    "outputId": "ad676ee7-d7ae-4026-c032-c45c1f1b2867"
   },
   "outputs": [
    {
     "name": "stdout",
     "output_type": "stream",
     "text": [
      "1.26.4\n"
     ]
    }
   ],
   "source": [
    "print(np.__version__)"
   ]
  },
  {
   "cell_type": "code",
   "execution_count": null,
   "metadata": {
    "colab": {
     "base_uri": "https://localhost:8080/"
    },
    "id": "WnhZcKPhItIW",
    "outputId": "c1a4da03-5e95-47b3-9c55-858ce65a882e"
   },
   "outputs": [
    {
     "name": "stdout",
     "output_type": "stream",
     "text": [
      "[1 2 3 4 5]\n",
      "<class 'numpy.ndarray'>\n"
     ]
    }
   ],
   "source": [
    "arr = np.array([1,2,3,4,5])\n",
    "print(arr)\n",
    "print(type(arr))"
   ]
  },
  {
   "cell_type": "code",
   "execution_count": null,
   "metadata": {
    "colab": {
     "base_uri": "https://localhost:8080/"
    },
    "id": "32o9qQHtHdRq",
    "outputId": "5974de92-f342-4a43-93fe-4f39ffdc432d"
   },
   "outputs": [
    {
     "name": "stdout",
     "output_type": "stream",
     "text": [
      "['1' '2' '3' '4' 'a']\n",
      "<class 'numpy.ndarray'>\n"
     ]
    }
   ],
   "source": [
    "arr = np.array([1,2,3,4,'a'])\n",
    "print(arr)\n",
    "print(type(arr))"
   ]
  },
  {
   "cell_type": "markdown",
   "metadata": {
    "id": "IWAMBM6lJw9m"
   },
   "source": [
    "**dimensions**\n"
   ]
  },
  {
   "cell_type": "code",
   "execution_count": 7,
   "metadata": {
    "colab": {
     "base_uri": "https://localhost:8080/"
    },
    "id": "jgBe65WXJ1lU",
    "outputId": "41c04a3a-13c4-4856-d672-cc8a0a40cb51"
   },
   "outputs": [
    {
     "name": "stdout",
     "output_type": "stream",
     "text": [
      "33\n",
      "0\n"
     ]
    }
   ],
   "source": [
    "arr = np.array(33)\n",
    "print(arr)\n",
    "# it is 0 D array\n",
    "# we can also check the dimension of the array\n",
    "print(arr.ndim)"
   ]
  },
  {
   "cell_type": "code",
   "execution_count": 8,
   "metadata": {
    "colab": {
     "base_uri": "https://localhost:8080/"
    },
    "id": "4Z4RR2tSKWTS",
    "outputId": "b4456ed3-be18-49b7-962d-02873dd76d5d"
   },
   "outputs": [
    {
     "name": "stdout",
     "output_type": "stream",
     "text": [
      "[1 2 3 4 5]\n",
      "1\n"
     ]
    }
   ],
   "source": [
    "arr = np.array([1,2,3,4,5])\n",
    "print(arr)\n",
    "# it is 1 D array\n",
    "print(arr.ndim)"
   ]
  },
  {
   "cell_type": "code",
   "execution_count": 9,
   "metadata": {
    "colab": {
     "base_uri": "https://localhost:8080/"
    },
    "id": "jfg62fybKXnv",
    "outputId": "b59336bc-10ad-48a5-ace3-d4bad27d4b0e"
   },
   "outputs": [
    {
     "name": "stdout",
     "output_type": "stream",
     "text": [
      "[[1 2 3]\n",
      " [4 5 6]]\n",
      "2\n"
     ]
    }
   ],
   "source": [
    "arr = np.array([[1,2,3],[4,5,6]])\n",
    "print(arr)\n",
    "# it is 2 D array\n",
    "print(arr.ndim)"
   ]
  },
  {
   "cell_type": "code",
   "execution_count": 11,
   "metadata": {
    "colab": {
     "base_uri": "https://localhost:8080/"
    },
    "id": "KbhhJQ7rKXzC",
    "outputId": "7b3520f0-f2c6-4e2e-f04b-f1e1c3de702f"
   },
   "outputs": [
    {
     "name": "stdout",
     "output_type": "stream",
     "text": [
      "[[[1 2 3]\n",
      "  [4 5 6]]\n",
      "\n",
      " [[1 2 3]\n",
      "  [4 5 6]]]\n",
      "3\n"
     ]
    }
   ],
   "source": [
    "arr = np.array([[[1,2,3],[4,5,6]],[[1,2,3],[4,5,6]]])\n",
    "print(arr)\n",
    "# it is 3 D array\n",
    "print(arr.ndim)"
   ]
  },
  {
   "cell_type": "code",
   "execution_count": 14,
   "metadata": {
    "colab": {
     "base_uri": "https://localhost:8080/"
    },
    "id": "dSZFiApzNubf",
    "outputId": "7af3cbfa-535f-45ca-ff1e-88d91bd4f7d3"
   },
   "outputs": [
    {
     "name": "stdout",
     "output_type": "stream",
     "text": [
      "[[[ 1  2  3]\n",
      "  [ 4  5  6]\n",
      "  [ 7  8  9]\n",
      "  [10 11 12]]]\n",
      "3\n"
     ]
    }
   ],
   "source": [
    "arr = np.array([[[1,2,3] , [4,5,6] , [7,8,9] , [10,11,12]]])\n",
    "print(arr)\n",
    "print(arr.ndim)"
   ]
  },
  {
   "cell_type": "code",
   "execution_count": 30,
   "metadata": {
    "colab": {
     "base_uri": "https://localhost:8080/"
    },
    "id": "ZF1KjjEJQdp1",
    "outputId": "f451ce33-e19d-4bae-a0f3-b06af5cd64d2"
   },
   "outputs": [
    {
     "name": "stdout",
     "output_type": "stream",
     "text": [
      "3\n",
      "5\n",
      "8\n",
      "3\n"
     ]
    }
   ],
   "source": [
    "arr = np.array([[1,2,3,4] ,[5,6,7,8]])\n",
    "print(arr[0][2])\n",
    "print(arr[1,0])\n",
    "print(arr[-1,-1])\n",
    "print(arr[-2,-2])"
   ]
  },
  {
   "cell_type": "markdown",
   "metadata": {
    "id": "IkAQKjJVL_WJ"
   },
   "source": [
    "**array indexing**\n"
   ]
  },
  {
   "cell_type": "code",
   "execution_count": 5,
   "metadata": {
    "colab": {
     "base_uri": "https://localhost:8080/"
    },
    "id": "7jh7jlaBLnOU",
    "outputId": "7d33dca3-3156-4dad-b590-c807ace9b719"
   },
   "outputs": [
    {
     "name": "stdout",
     "output_type": "stream",
     "text": [
      "[1 2 3 4 5]\n",
      "<class 'numpy.ndarray'>\n",
      "1\n",
      "2\n",
      "3\n",
      "4\n",
      "5\n",
      "[2 3 4 5]\n"
     ]
    }
   ],
   "source": [
    "arr = np.array((1,2,3,4,5))\n",
    "print(arr)\n",
    "print(type(arr))\n",
    "print(arr[0])\n",
    "print(arr[1])\n",
    "print(arr[2])\n",
    "print(arr[3])\n",
    "print(arr[4])\n",
    "\n",
    "print(arr[1:5]) # slicing of the array\n"
   ]
  },
  {
   "cell_type": "code",
   "execution_count": 4,
   "metadata": {
    "colab": {
     "base_uri": "https://localhost:8080/"
    },
    "id": "pJ3SgYMPNKb5",
    "outputId": "0d6f8869-3a76-4964-a017-da6ea9dc0a3c"
   },
   "outputs": [
    {
     "name": "stdout",
     "output_type": "stream",
     "text": [
      "1\n",
      "2\n",
      "3\n",
      "4\n"
     ]
    }
   ],
   "source": [
    "arr = np.array([1,2,3,4])\n",
    "for i in arr:\n",
    "  print(i)"
   ]
  },
  {
   "cell_type": "markdown",
   "metadata": {
    "id": "xySGkq0cNji_"
   },
   "source": [
    "changing the value by its index"
   ]
  },
  {
   "cell_type": "code",
   "execution_count": 3,
   "metadata": {
    "colab": {
     "base_uri": "https://localhost:8080/"
    },
    "id": "0gk2gfjyNY6D",
    "outputId": "da2daf07-bee6-473c-be67-cad0d19aa326"
   },
   "outputs": [
    {
     "name": "stdout",
     "output_type": "stream",
     "text": [
      "[100   5   8   9   4   0   7   9]\n"
     ]
    }
   ],
   "source": [
    "arr = np.array([4,5,8,9,4,0,7,9])\n",
    "arr[0] = 100\n",
    "print(arr)\n"
   ]
  },
  {
   "cell_type": "markdown",
   "metadata": {
    "id": "g-MB6HcvOF_k"
   },
   "source": [
    "inserting the value"
   ]
  },
  {
   "cell_type": "code",
   "execution_count": null,
   "metadata": {
    "colab": {
     "base_uri": "https://localhost:8080/"
    },
    "id": "iz5cD2nANwAy",
    "outputId": "dd73641a-2474-4132-bcad-2054f4080e13"
   },
   "outputs": [
    {
     "name": "stdout",
     "output_type": "stream",
     "text": [
      "[  4   5   8   9   4 100   0   7   9]\n"
     ]
    }
   ],
   "source": [
    "arr = np.array([4,5,8,9,4,0,7,9])\n",
    "result = np.insert(arr,5,100)\n",
    "print(result)\n"
   ]
  },
  {
   "cell_type": "code",
   "execution_count": 3,
   "metadata": {
    "colab": {
     "base_uri": "https://localhost:8080/"
    },
    "id": "zgZCUY9oI-Y6",
    "outputId": "c29975a3-e300-4ad3-824a-cc77edd2394a"
   },
   "outputs": [
    {
     "name": "stdout",
     "output_type": "stream",
     "text": [
      "[1 2 3 4 5]\n",
      "[ 1 10  2  3  4  5]\n"
     ]
    }
   ],
   "source": [
    "arr = np.array([1,2,3,4,5])\n",
    "print(arr)\n",
    "result = np.insert(arr,1,10)\n",
    "print(result)"
   ]
  },
  {
   "cell_type": "markdown",
   "metadata": {
    "id": "RdTAdxGeSVf9"
   },
   "source": [
    "changing the value in dimensional arrays"
   ]
  },
  {
   "cell_type": "code",
   "execution_count": null,
   "metadata": {
    "colab": {
     "base_uri": "https://localhost:8080/"
    },
    "id": "pk-v4MhpSSZd",
    "outputId": "411ae63e-fb91-4971-e7c7-4288365b05ba"
   },
   "outputs": [
    {
     "name": "stdout",
     "output_type": "stream",
     "text": [
      "[  1 100   2   3   4   5   6]\n",
      "[[1 2 3]\n",
      " [4 5 6]]\n"
     ]
    }
   ],
   "source": [
    "arr = np.array([[1,2,3],[4,5,6]])\n",
    "result = np.insert(arr,1,100) # when inserting in the array we can not insert the value in present we have to create a new array then we will insert the new value\n",
    "print(result)\n",
    "print(arr)\n"
   ]
  },
  {
   "cell_type": "markdown",
   "metadata": {
    "id": "GI3Wh_k_LjHr"
   },
   "source": [
    "###arange"
   ]
  },
  {
   "cell_type": "code",
   "execution_count": 6,
   "metadata": {
    "colab": {
     "base_uri": "https://localhost:8080/"
    },
    "id": "hnKjX2poLnxT",
    "outputId": "297c4fb2-437c-47ab-f8f5-28182240593f"
   },
   "outputs": [
    {
     "name": "stdout",
     "output_type": "stream",
     "text": [
      "[1 3 5 7 9]\n"
     ]
    }
   ],
   "source": [
    "arr = np.arange(start = 1 , stop  = 10 , step = 2)\n",
    "print(arr)"
   ]
  },
  {
   "cell_type": "code",
   "execution_count": 5,
   "metadata": {
    "colab": {
     "base_uri": "https://localhost:8080/"
    },
    "id": "EsfsxqFtL3BD",
    "outputId": "b44574c8-ebd2-40ff-86f5-1bc26eabc727"
   },
   "outputs": [
    {
     "name": "stdout",
     "output_type": "stream",
     "text": [
      "[4 5 6 7 8 9]\n"
     ]
    }
   ],
   "source": [
    "arr = np.arange(4,10)\n",
    "print(arr)"
   ]
  },
  {
   "cell_type": "code",
   "execution_count": null,
   "metadata": {
    "colab": {
     "base_uri": "https://localhost:8080/"
    },
    "id": "xsfjuX9ETtY4",
    "outputId": "10cd0f86-00f0-41aa-8388-71951fd4f6b4"
   },
   "outputs": [
    {
     "name": "stdout",
     "output_type": "stream",
     "text": [
      "[[10 20 30]\n",
      " [ 1  2  3]\n",
      " [ 4  5  6]]\n"
     ]
    }
   ],
   "source": [
    "arr = np.array([[1,2,3],[4,5,6]])\n",
    "result = np.insert(arr,0,[10,20,30],axis = 0)\n",
    "print(result)"
   ]
  },
  {
   "cell_type": "markdown",
   "metadata": {
    "id": "I7gOGKuaTPXs"
   },
   "source": [
    " **axis**"
   ]
  },
  {
   "cell_type": "code",
   "execution_count": 33,
   "metadata": {
    "colab": {
     "base_uri": "https://localhost:8080/"
    },
    "id": "ReqQPouzTpdD",
    "outputId": "35330128-ae54-4191-b794-49d9fad686ed"
   },
   "outputs": [
    {
     "name": "stdout",
     "output_type": "stream",
     "text": [
      "[[ 1  2  3  4]\n",
      " [11 11 11 11]\n",
      " [ 5  6  7  8]]\n"
     ]
    }
   ],
   "source": [
    "arr = np.array([[1,2,3,4] , [5,6,7,8]])\n",
    "result = np.insert(arr, 1,11 ,axis = 0)\n",
    "print(result)"
   ]
  },
  {
   "cell_type": "code",
   "execution_count": 52,
   "metadata": {
    "colab": {
     "base_uri": "https://localhost:8080/"
    },
    "id": "0IbsZf7UTtpb",
    "outputId": "794c2b47-4c7b-427e-f26f-d728984a24fb"
   },
   "outputs": [
    {
     "name": "stdout",
     "output_type": "stream",
     "text": [
      "[[ 1 11  2  3]\n",
      " [ 4 11  5  6]]\n"
     ]
    }
   ],
   "source": [
    "arr = np.array([[1,2,3],[4,5,6]])\n",
    "result = np.insert(arr,1,11 ,axis =1)\n",
    "print(result)"
   ]
  },
  {
   "cell_type": "code",
   "execution_count": 56,
   "metadata": {
    "colab": {
     "base_uri": "https://localhost:8080/"
    },
    "id": "ugCzCCbeD5ow",
    "outputId": "34a6630a-2352-4111-cdea-81b7154f6911"
   },
   "outputs": [
    {
     "name": "stdout",
     "output_type": "stream",
     "text": [
      "[[[ 1 11  2  3]\n",
      "  [ 4 11  5  6]]\n",
      "\n",
      " [[ 7 11  8  9]\n",
      "  [10 11 11 12]]]\n"
     ]
    }
   ],
   "source": [
    "arr = np.array([[[1,2,3],[4,5,6]] , [[7,8,9] ,[10,11,12]]])\n",
    "result = np.insert(arr,1,11,axis = 2)\n",
    "# print(arr)\n",
    "print(result)"
   ]
  },
  {
   "cell_type": "code",
   "execution_count": 61,
   "metadata": {
    "colab": {
     "base_uri": "https://localhost:8080/"
    },
    "id": "Trn6HbYNXfVH",
    "outputId": "7a7cfea0-54a3-4e47-e8d6-b4d11e5447e7"
   },
   "outputs": [
    {
     "name": "stdout",
     "output_type": "stream",
     "text": [
      "[[ 1 11  2  3]\n",
      " [ 4 11  5  6]\n",
      " [ 7 11  8  9]\n",
      " [10 11 11 12]]\n",
      "16\n",
      "(4, 4)\n",
      "[[ 1 11  2  3]\n",
      " [ 4 11  5  6]\n",
      " [ 7 11  8  9]\n",
      " [10 11 11 12]]\n"
     ]
    }
   ],
   "source": [
    "arr = np.array([(1,2,3) ,(4,5,6),(7,8,9) ,(10,11,12)])\n",
    "# print(arr)\n",
    "result = np.insert(arr,1,11,axis = 1)\n",
    "print(result)\n",
    "print(result.size)\n",
    "print(result.shape)\n",
    "b = result.reshape(4,4)\n",
    "print(b)"
   ]
  },
  {
   "cell_type": "code",
   "execution_count": 73,
   "metadata": {
    "id": "FXsiTdkQ0wOa"
   },
   "outputs": [],
   "source": []
  },
  {
   "cell_type": "markdown",
   "metadata": {
    "id": "OvR9kX2ReRbV"
   },
   "source": [
    "**reshape the array**"
   ]
  },
  {
   "cell_type": "code",
   "execution_count": 66,
   "metadata": {
    "colab": {
     "base_uri": "https://localhost:8080/"
    },
    "id": "be-bGdCYeXS-",
    "outputId": "b4464802-7180-4b87-f60b-373095183372"
   },
   "outputs": [
    {
     "name": "stdout",
     "output_type": "stream",
     "text": [
      "[[1 2 3]\n",
      " [4 5 6]]\n"
     ]
    }
   ],
   "source": [
    "arr = np.array([1,2,3,4,5,6])\n",
    "b = arr.reshape(2,3)\n",
    "print(b)"
   ]
  },
  {
   "cell_type": "code",
   "execution_count": 74,
   "metadata": {
    "colab": {
     "base_uri": "https://localhost:8080/"
    },
    "id": "E4CJbqJ6eW8e",
    "outputId": "4b60f139-5f18-421f-82e6-8c88f44ae98d"
   },
   "outputs": [
    {
     "name": "stdout",
     "output_type": "stream",
     "text": [
      "[[ 1  2  3  4]\n",
      " [ 5  6  7  8]\n",
      " [ 9 10 11 12]]\n"
     ]
    }
   ],
   "source": [
    "arr = np.array([1,2,3,4,5,6,7,8,9,10,11,12])\n",
    "b = arr.reshape(3,4)\n",
    "print(b)"
   ]
  },
  {
   "cell_type": "code",
   "execution_count": 76,
   "metadata": {
    "colab": {
     "base_uri": "https://localhost:8080/"
    },
    "id": "q-eDMT_229ub",
    "outputId": "1c677434-22d1-4e08-ada8-372821a6ec50"
   },
   "outputs": [
    {
     "name": "stdout",
     "output_type": "stream",
     "text": [
      "[[[ 1  2]\n",
      "  [ 3  4]\n",
      "  [ 5  6]]\n",
      "\n",
      " [[ 7  8]\n",
      "  [ 9 10]\n",
      "  [11 12]]]\n"
     ]
    }
   ],
   "source": [
    "arr = np.array([1,2,3,4,5,6,7,8,9,10,11,12])\n",
    "b = arr.reshape(2,3,2)\n",
    "print(b)"
   ]
  },
  {
   "cell_type": "code",
   "execution_count": 78,
   "metadata": {
    "colab": {
     "base_uri": "https://localhost:8080/"
    },
    "id": "u8k3wEYF3Mhx",
    "outputId": "603d6016-d2ae-4c46-d874-d4fa8e62caf2"
   },
   "outputs": [
    {
     "name": "stdout",
     "output_type": "stream",
     "text": [
      "[[ 1  2  3  4]\n",
      " [ 5  6  7  8]\n",
      " [ 9 10 11 12]]\n"
     ]
    }
   ],
   "source": [
    "arr = np.array([[[1,2,3] ,[4,5,6]] , [[7,8,9] ,[10,11,12]]])\n",
    "b = arr.reshape(3,4)\n",
    "print(b)"
   ]
  },
  {
   "cell_type": "markdown",
   "metadata": {
    "id": "DYBHZRbG9c--"
   },
   "source": [
    "auto adjust dimensions\n"
   ]
  },
  {
   "cell_type": "code",
   "execution_count": 102,
   "metadata": {
    "colab": {
     "base_uri": "https://localhost:8080/"
    },
    "id": "3pFWgCHA853o",
    "outputId": "e22ac016-9a61-4f97-c6bd-9d059a99ffe9"
   },
   "outputs": [
    {
     "name": "stdout",
     "output_type": "stream",
     "text": [
      "[[[ 1  2]\n",
      "  [ 3  4]\n",
      "  [ 5  6]]\n",
      "\n",
      " [[ 7  8]\n",
      "  [ 9 10]\n",
      "  [11 12]]]\n"
     ]
    }
   ],
   "source": [
    "# it can reshape automatically just by giving -1\n",
    "arr = np.array([1,2,3,4,5,6,7,8,9,10,11,12])\n",
    "b = arr.reshape(2,3,-1)\n",
    "print(b)"
   ]
  },
  {
   "cell_type": "markdown",
   "metadata": {
    "id": "aO-d90Wb42lO"
   },
   "source": [
    "**Basic array operations** and **np.ones**"
   ]
  },
  {
   "cell_type": "code",
   "execution_count": 97,
   "metadata": {
    "colab": {
     "base_uri": "https://localhost:8080/"
    },
    "id": "Dtw2448649ab",
    "outputId": "59e56505-782e-4afb-bbbd-78d457d737a6"
   },
   "outputs": [
    {
     "name": "stdout",
     "output_type": "stream",
     "text": [
      "[1 2]\n",
      "[1 1]\n"
     ]
    },
    {
     "data": {
      "text/plain": [
       "array([1., 2.])"
      ]
     },
     "execution_count": 97,
     "metadata": {},
     "output_type": "execute_result"
    }
   ],
   "source": [
    "arr = np.array([1,2])\n",
    "ones = np.ones(2,dtype = int)\n",
    "print(arr)\n",
    "print(ones)\n",
    "# arr + ones\n",
    "# arr - ones\n",
    "# arr * ones\n",
    "arr/ones\n",
    "# res = arr + ones\n",
    "# print(res)"
   ]
  },
  {
   "cell_type": "code",
   "execution_count": 105,
   "metadata": {
    "colab": {
     "base_uri": "https://localhost:8080/"
    },
    "id": "daPF6yQi9quX",
    "outputId": "00742459-f539-4017-ff1f-a58f39a15690"
   },
   "outputs": [
    {
     "name": "stdout",
     "output_type": "stream",
     "text": [
      "sum of array 10\n",
      "1\n",
      "4\n",
      "2.5\n",
      "1.118033988749895\n"
     ]
    }
   ],
   "source": [
    "a = np.array([1,2,3,4])\n",
    "print(\"sum of array\",a.sum())\n",
    "print(a.min())\n",
    "print(a.max())\n",
    "print(a.mean())\n",
    "print(a.std())"
   ]
  },
  {
   "cell_type": "markdown",
   "metadata": {
    "id": "RuKgnNf8-hOt"
   },
   "source": [
    "You can sum over the axis of rows with:"
   ]
  },
  {
   "cell_type": "code",
   "execution_count": 110,
   "metadata": {
    "colab": {
     "base_uri": "https://localhost:8080/"
    },
    "id": "elCzXon4-igw",
    "outputId": "f91bda9f-a3eb-4b54-8921-10feb6b843ae"
   },
   "outputs": [
    {
     "name": "stdout",
     "output_type": "stream",
     "text": [
      "[4 6]\n",
      "[3 7]\n",
      "[[1 2]\n",
      " [3 4]]\n"
     ]
    }
   ],
   "source": [
    "b = np.array([[1,2],[3,4]])\n",
    "print(b.sum(axis = 0)) # sum calculated in column\n",
    "print(b.sum(axis = 1)) # sum calculated in rows\n",
    "print(b)\n"
   ]
  },
  {
   "cell_type": "markdown",
   "metadata": {
    "id": "CamQ5lypBP0m"
   },
   "source": [
    "**slicing**"
   ]
  },
  {
   "cell_type": "code",
   "execution_count": 132,
   "metadata": {
    "colab": {
     "base_uri": "https://localhost:8080/"
    },
    "id": "HAenk1CRBSdh",
    "outputId": "a04f0ea9-e854-4d6e-c8fc-99c8bc7896d7"
   },
   "outputs": [
    {
     "name": "stdout",
     "output_type": "stream",
     "text": [
      "[[1 2 3 4]\n",
      " [5 6 7 8]]\n",
      "[3 7]\n"
     ]
    }
   ],
   "source": [
    "arr = np.array([[1,2,3,4], [5,6,7,8] ,[9,10,11,12]])\n",
    "# print(arr[0:3 , 1:3])\n",
    "# print(arr[1,1:4])\n",
    "print(arr[0:2])\n",
    "print(arr[0:2,2])"
   ]
  },
  {
   "cell_type": "code",
   "execution_count": 133,
   "metadata": {
    "colab": {
     "base_uri": "https://localhost:8080/"
    },
    "id": "MUIIoShbGd3P",
    "outputId": "1d9f9676-a7ca-438c-8d8a-78e9a7fa09da"
   },
   "outputs": [
    {
     "name": "stdout",
     "output_type": "stream",
     "text": [
      "[0. 0.]\n"
     ]
    }
   ],
   "source": [
    "x = np.zeros(2)\n",
    "print(x) # it give the floating value but you can change the datatype by using dtype = datatype\n"
   ]
  },
  {
   "cell_type": "code",
   "execution_count": 134,
   "metadata": {
    "colab": {
     "base_uri": "https://localhost:8080/"
    },
    "id": "M8XKfN0dG_2x",
    "outputId": "9bd94f01-dee0-4734-9196-efb3451ea597"
   },
   "outputs": [
    {
     "name": "stdout",
     "output_type": "stream",
     "text": [
      "[0 0]\n"
     ]
    }
   ],
   "source": [
    "x = np.zeros(2 , dtype = int)\n",
    "print(x)"
   ]
  },
  {
   "cell_type": "code",
   "execution_count": 138,
   "metadata": {
    "colab": {
     "base_uri": "https://localhost:8080/"
    },
    "id": "40s9vzcDHGjV",
    "outputId": "09511855-a799-4acd-d569-450c2bca608c"
   },
   "outputs": [
    {
     "name": "stdout",
     "output_type": "stream",
     "text": [
      "[[0 0 0]\n",
      " [0 0 0]]\n"
     ]
    }
   ],
   "source": [
    "# we can make the 2d array\n",
    "x = np.zeros((2,3) , dtype = int)\n",
    "print(x)"
   ]
  },
  {
   "cell_type": "code",
   "execution_count": 139,
   "metadata": {
    "colab": {
     "base_uri": "https://localhost:8080/"
    },
    "id": "GDvPHotDHc5O",
    "outputId": "1d071f7c-b860-4d14-c030-5d32a3964cc9"
   },
   "outputs": [
    {
     "name": "stdout",
     "output_type": "stream",
     "text": [
      "[[[0 0 0]\n",
      "  [0 0 0]\n",
      "  [0 0 0]]\n",
      "\n",
      " [[0 0 0]\n",
      "  [0 0 0]\n",
      "  [0 0 0]]\n",
      "\n",
      " [[0 0 0]\n",
      "  [0 0 0]\n",
      "  [0 0 0]]]\n"
     ]
    }
   ],
   "source": [
    "# we can also make 3d array\n",
    "y = np.zeros((3,3,3) , dtype = int)\n",
    "print(y)"
   ]
  },
  {
   "cell_type": "code",
   "execution_count": 144,
   "metadata": {
    "colab": {
     "base_uri": "https://localhost:8080/"
    },
    "id": "k-ze6kJTIHGw",
    "outputId": "769b6703-1a25-49b2-83fb-a360f57e3dfd"
   },
   "outputs": [
    {
     "name": "stdout",
     "output_type": "stream",
     "text": [
      "['' '']\n"
     ]
    }
   ],
   "source": [
    "x = np.zeros(2 , dtype = str)\n",
    "print(x)"
   ]
  },
  {
   "cell_type": "code",
   "execution_count": 145,
   "metadata": {
    "colab": {
     "base_uri": "https://localhost:8080/"
    },
    "id": "kbUn6XJON9kD",
    "outputId": "19b8e629-12d2-46e5-fa42-9e1515f482c9"
   },
   "outputs": [
    {
     "name": "stdout",
     "output_type": "stream",
     "text": [
      "[b'' b'']\n"
     ]
    }
   ],
   "source": [
    "x = np.zeros(2 , dtype = \"S\")\n",
    "print(x)"
   ]
  },
  {
   "cell_type": "code",
   "execution_count": 146,
   "metadata": {
    "colab": {
     "base_uri": "https://localhost:8080/"
    },
    "id": "xZit6oxNOClW",
    "outputId": "b34c1b64-165b-4d4a-e3c0-8de06037d55e"
   },
   "outputs": [
    {
     "name": "stdout",
     "output_type": "stream",
     "text": [
      "[0 0]\n"
     ]
    }
   ],
   "source": [
    "x = np.zeros(2 , dtype = \"i\")\n",
    "print(x)"
   ]
  },
  {
   "cell_type": "markdown",
   "metadata": {
    "id": "DSPDR9o_Oa9c"
   },
   "source": [
    "we can change the data type of array later on or after declared an array\n"
   ]
  },
  {
   "cell_type": "code",
   "execution_count": 147,
   "metadata": {
    "colab": {
     "base_uri": "https://localhost:8080/"
    },
    "id": "4dFGDsxvOkSx",
    "outputId": "f8ab20de-a96e-412c-80f1-634e25bc648b"
   },
   "outputs": [
    {
     "name": "stdout",
     "output_type": "stream",
     "text": [
      "[2.3 3.4 5.6 7.8]\n",
      "[2 3 5 7]\n"
     ]
    }
   ],
   "source": [
    "arr = np.array([2.3,3.4,5.6,7.8])\n",
    "print(arr)\n",
    "res = arr.astype(int)\n",
    "print(res)"
   ]
  },
  {
   "cell_type": "markdown",
   "metadata": {
    "id": "ymJe4TC2PRVG"
   },
   "source": [
    "broading casting"
   ]
  },
  {
   "cell_type": "code",
   "execution_count": 149,
   "metadata": {
    "colab": {
     "base_uri": "https://localhost:8080/"
    },
    "id": "MMMNXAPTPR9v",
    "outputId": "f7ce3f94-b275-4987-87cc-8be45ba05c61"
   },
   "outputs": [
    {
     "data": {
      "text/plain": [
       "array([3.2, 4.8])"
      ]
     },
     "execution_count": 149,
     "metadata": {},
     "output_type": "execute_result"
    }
   ],
   "source": [
    "arr = np.array([2,3])\n",
    "arr * 1.6\n",
    "# both the values wiil be divided by the number"
   ]
  },
  {
   "cell_type": "markdown",
   "metadata": {
    "id": "2w5Qjwg6PV2o"
   },
   "source": [
    "**copy**"
   ]
  },
  {
   "cell_type": "code",
   "execution_count": 157,
   "metadata": {
    "colab": {
     "base_uri": "https://localhost:8080/"
    },
    "id": "oVfftp-wPQ1p",
    "outputId": "6a19014d-0acc-4d6f-84ba-d84680d9ed47"
   },
   "outputs": [
    {
     "name": "stdout",
     "output_type": "stream",
     "text": [
      "[1 2 3 4]\n",
      "[100   2   3   4]\n",
      "134522953967312\n",
      "134522953965200\n"
     ]
    }
   ],
   "source": [
    "arr = np.array([1,2,3,4])\n",
    "newArr = arr.copy() # it is copy in this it will create a new array in this deep copy id done\n",
    "arr[0] = 100\n",
    "print(newArr)\n",
    "print(arr)\n",
    "print(id(arr))\n",
    "print(id(newArr))"
   ]
  },
  {
   "cell_type": "code",
   "execution_count": 156,
   "metadata": {
    "colab": {
     "base_uri": "https://localhost:8080/"
    },
    "id": "pWvMJZZ0Qsh-",
    "outputId": "a2523894-847c-4c9c-fb08-33e38ace12e4"
   },
   "outputs": [
    {
     "name": "stdout",
     "output_type": "stream",
     "text": [
      "[100   2   3   4]\n",
      "[100   2   3   4]\n",
      "134522953591440\n",
      "134522953591440\n"
     ]
    }
   ],
   "source": [
    "arr = np.array([1,2,3,4])\n",
    "newArr = arr  # it is called as view\n",
    "arr[0] = 100\n",
    "print(newArr)\n",
    "print(arr)\n",
    "# the concept is same as in the pyhton copy()\n",
    "# in this they have same refence\n",
    "\n",
    "print(id(arr))\n",
    "print(id(newArr))"
   ]
  },
  {
   "cell_type": "code",
   "execution_count": 158,
   "metadata": {
    "colab": {
     "base_uri": "https://localhost:8080/"
    },
    "id": "I_UalBc6SwD1",
    "outputId": "6d140786-b5ae-462a-9c88-99a7a4142bc5"
   },
   "outputs": [
    {
     "name": "stdout",
     "output_type": "stream",
     "text": [
      "[[1 2 3 4]\n",
      " [5 6 7 8]]\n",
      "[[100   2   3   4]\n",
      " [  5   6   7   8]]\n"
     ]
    }
   ],
   "source": [
    "arr = np.array([[1,2,3,4],[5,6,7,8]])\n",
    "newArr = arr.copy()\n",
    "arr[0,0] = 100\n",
    "print(newArr)\n",
    "print(arr)\n"
   ]
  },
  {
   "cell_type": "code",
   "execution_count": 159,
   "metadata": {
    "colab": {
     "base_uri": "https://localhost:8080/"
    },
    "id": "vN3G08LiS8LX",
    "outputId": "095ad302-eb46-4fa3-d0e1-d1ab47d85643"
   },
   "outputs": [
    {
     "name": "stdout",
     "output_type": "stream",
     "text": [
      "[[100   2   3   4]\n",
      " [  5   6   7   8]]\n",
      "[[100   2   3   4]\n",
      " [  5   6   7   8]]\n"
     ]
    }
   ],
   "source": [
    "arr = np.array([[1,2,3,4],[5,6,7,8]])\n",
    "newArr = arr\n",
    "arr[0,0] = 100\n",
    "print(newArr)\n",
    "print(arr)"
   ]
  },
  {
   "cell_type": "markdown",
   "metadata": {
    "id": "MO0ktrb6T8Ti"
   },
   "source": [
    "reverse an array\n"
   ]
  },
  {
   "cell_type": "code",
   "execution_count": 160,
   "metadata": {
    "colab": {
     "base_uri": "https://localhost:8080/"
    },
    "id": "jEHiYvMrT9vm",
    "outputId": "c22526c9-3bd6-4e14-c592-8db95aa48473"
   },
   "outputs": [
    {
     "name": "stdout",
     "output_type": "stream",
     "text": [
      "[6 5 4 3 2 1]\n"
     ]
    }
   ],
   "source": [
    "arr = np.array([1,2,3,4,5,6])\n",
    "res = np.flip(arr)\n",
    "print(res)"
   ]
  },
  {
   "cell_type": "code",
   "execution_count": 162,
   "metadata": {
    "colab": {
     "base_uri": "https://localhost:8080/"
    },
    "id": "eNHL_r16Ubg9",
    "outputId": "b83bc819-4f4e-44a0-bb5f-4319afa96a04"
   },
   "outputs": [
    {
     "name": "stdout",
     "output_type": "stream",
     "text": [
      "[[10  9  8  7  6]\n",
      " [ 5  4  3  2  1]]\n",
      "[[ 1  2  3  4  5]\n",
      " [ 6  7  8  9 10]]\n"
     ]
    }
   ],
   "source": [
    "arr = np.array([[1,2,3,4,5] , [6,7,8,9,10]])\n",
    "res = np.flip(arr)\n",
    "print(res)\n",
    "print(arr)"
   ]
  },
  {
   "cell_type": "markdown",
   "metadata": {
    "id": "-WR0aiSBVhxF"
   },
   "source": [
    "standard deviation"
   ]
  },
  {
   "cell_type": "code",
   "execution_count": 163,
   "metadata": {
    "colab": {
     "base_uri": "https://localhost:8080/"
    },
    "id": "y_1DFxL9VpXA",
    "outputId": "2a6d0193-6628-4554-b3da-6c7b2e96dcf2"
   },
   "outputs": [
    {
     "name": "stdout",
     "output_type": "stream",
     "text": [
      "1.4142135623730951\n"
     ]
    }
   ],
   "source": [
    "arr= np.array([1,2,3,4,5])\n",
    "print(np.std(arr))"
   ]
  },
  {
   "cell_type": "markdown",
   "metadata": {
    "id": "4MnYOJ9eVwVP"
   },
   "source": [
    "variance"
   ]
  },
  {
   "cell_type": "code",
   "execution_count": 165,
   "metadata": {
    "colab": {
     "base_uri": "https://localhost:8080/"
    },
    "id": "S_UHsNsNVxc7",
    "outputId": "ec2be981-a8f8-470d-b276-cb75857cbe61"
   },
   "outputs": [
    {
     "name": "stdout",
     "output_type": "stream",
     "text": [
      "2.0\n"
     ]
    }
   ],
   "source": [
    "arr = np.array([1,2,3,4,5])\n",
    "print(np.var(arr))"
   ]
  }
 ],
 "metadata": {
  "colab": {
   "provenance": []
  },
  "kernelspec": {
   "display_name": "Python 3",
   "name": "python3"
  },
  "language_info": {
   "name": "python"
  }
 },
 "nbformat": 4,
 "nbformat_minor": 0
}
