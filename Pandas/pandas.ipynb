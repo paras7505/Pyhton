{
  "nbformat": 4,
  "nbformat_minor": 0,
  "metadata": {
    "colab": {
      "provenance": []
    },
    "kernelspec": {
      "name": "python3",
      "display_name": "Python 3"
    },
    "language_info": {
      "name": "python"
    }
  },
  "cells": [
    {
      "cell_type": "markdown",
      "source": [
        "pandas is a pyhton library that is used to work with tabular data for cleaning and analysis"
      ],
      "metadata": {
        "id": "fFCgAvDG61R1"
      }
    },
    {
      "cell_type": "code",
      "execution_count": 1,
      "metadata": {
        "id": "Z13x-rMG6xcG"
      },
      "outputs": [],
      "source": [
        "import pandas as pd\n",
        "import numpy as np"
      ]
    },
    {
      "cell_type": "code",
      "source": [
        "print(pd.__version__)"
      ],
      "metadata": {
        "colab": {
          "base_uri": "https://localhost:8080/"
        },
        "id": "NIFHywnH62Bu",
        "outputId": "c19e90e8-addb-4557-a628-b8621456bee5"
      },
      "execution_count": null,
      "outputs": [
        {
          "output_type": "stream",
          "name": "stdout",
          "text": [
            "2.2.2\n"
          ]
        }
      ]
    },
    {
      "cell_type": "code",
      "source": [
        "data = {\n",
        "    \"course\" : [\"pyhton \" , \"cpp\" , \"java\"],\n",
        "    'mentor' : [\"xyz\" , \"abc\" , \"pqj\"]\n",
        "}\n",
        "newDataframe = pd.DataFrame(data)\n",
        "print(newDataframe)\n",
        "\n",
        "s = pd.Series(data)\n",
        "print(s)"
      ],
      "metadata": {
        "colab": {
          "base_uri": "https://localhost:8080/"
        },
        "id": "9Chg1-Cf62qd",
        "outputId": "7a97d6ab-967d-4429-f257-172ed77b18f1"
      },
      "execution_count": null,
      "outputs": [
        {
          "output_type": "stream",
          "name": "stdout",
          "text": [
            "    course mentor\n",
            "0  pyhton     xyz\n",
            "1      cpp    abc\n",
            "2     java    pqj\n",
            "course    [pyhton , cpp, java]\n",
            "mentor         [xyz, abc, pqj]\n",
            "dtype: object\n"
          ]
        }
      ]
    },
    {
      "cell_type": "markdown",
      "source": [
        "**series in pandas**\n"
      ],
      "metadata": {
        "id": "ke9RJIcBk7Y1"
      }
    },
    {
      "cell_type": "code",
      "source": [
        "s = pd.Series([1,2.2,3,4,5])\n",
        "print(s)"
      ],
      "metadata": {
        "colab": {
          "base_uri": "https://localhost:8080/"
        },
        "id": "DPnfNxgEoKLX",
        "outputId": "a528331a-fa9d-4172-8beb-b9ccd74bd71d"
      },
      "execution_count": null,
      "outputs": [
        {
          "output_type": "stream",
          "name": "stdout",
          "text": [
            "0    1.0\n",
            "1    2.2\n",
            "2    3.0\n",
            "3    4.0\n",
            "4    5.0\n",
            "dtype: float64\n"
          ]
        }
      ]
    },
    {
      "cell_type": "code",
      "source": [
        "s = pd.Series([1,2,3,4,5] , index = ['a' , 'b' , 'c' , 'd' , 'e'])\n",
        "print(s)"
      ],
      "metadata": {
        "colab": {
          "base_uri": "https://localhost:8080/"
        },
        "id": "uRQPF08QsR8s",
        "outputId": "5bef653e-3fa8-4f7e-e3e5-b9e40ab6283e"
      },
      "execution_count": null,
      "outputs": [
        {
          "output_type": "stream",
          "name": "stdout",
          "text": [
            "a    1\n",
            "b    2\n",
            "c    3\n",
            "d    4\n",
            "e    5\n",
            "dtype: int64\n"
          ]
        }
      ]
    },
    {
      "cell_type": "code",
      "source": [
        "s = pd.Series([1,2,3,4,5,np.nan,6 ,7] , index = ['a', 'b' , 'c' , 'd' , 'e' , 'f' , 'g', 'h'])\n",
        "print(s)\n",
        "# if it don't know about the data then it convert it into floating value\n"
      ],
      "metadata": {
        "colab": {
          "base_uri": "https://localhost:8080/"
        },
        "id": "BjSy2Abusgif",
        "outputId": "bdcb8be3-65ce-40ad-a40f-196b2eeb3fcc"
      },
      "execution_count": null,
      "outputs": [
        {
          "output_type": "stream",
          "name": "stdout",
          "text": [
            "a    1.0\n",
            "b    2.0\n",
            "c    3.0\n",
            "d    4.0\n",
            "e    5.0\n",
            "f    NaN\n",
            "g    6.0\n",
            "h    7.0\n",
            "dtype: float64\n"
          ]
        },
        {
          "output_type": "stream",
          "name": "stderr",
          "text": [
            "<ipython-input-35-e200c73cddd1>:4: FutureWarning: Series.__getitem__ treating keys as positions is deprecated. In a future version, integer keys will always be treated as labels (consistent with DataFrame behavior). To access a value by position, use `ser.iloc[pos]`\n",
            "  s[0]\n"
          ]
        },
        {
          "output_type": "execute_result",
          "data": {
            "text/plain": [
              "1.0"
            ]
          },
          "metadata": {},
          "execution_count": 35
        }
      ]
    },
    {
      "cell_type": "code",
      "source": [
        "value = s['b']\n",
        "print(value)\n",
        "\n"
      ],
      "metadata": {
        "colab": {
          "base_uri": "https://localhost:8080/"
        },
        "id": "noNuyYJEuFFr",
        "outputId": "d089c8a4-87aa-4fe4-baf3-2698e0c8f59d"
      },
      "execution_count": null,
      "outputs": [
        {
          "output_type": "stream",
          "name": "stdout",
          "text": [
            "2.0\n"
          ]
        }
      ]
    },
    {
      "cell_type": "code",
      "source": [
        "\n",
        "s = pd.Series(data , index= [\"mentor\"])\n",
        "print(s)\n"
      ],
      "metadata": {
        "colab": {
          "base_uri": "https://localhost:8080/"
        },
        "id": "wLUs9qW_x07q",
        "outputId": "94ec9c23-67ce-4a1e-c93a-c6067b17e2fb"
      },
      "execution_count": null,
      "outputs": [
        {
          "output_type": "stream",
          "name": "stdout",
          "text": [
            "mentor    [xyz, abc, pqj]\n",
            "dtype: object\n"
          ]
        }
      ]
    },
    {
      "cell_type": "markdown",
      "source": [
        "create a series from nd array (numpy)\n",
        "\n"
      ],
      "metadata": {
        "id": "0O4w-My5yJnv"
      }
    },
    {
      "cell_type": "code",
      "source": [
        "arr = np.array([1,2,3,4,5] )\n",
        "s = pd.Series(arr , index = ['1', '2', '3', '4', '5'])\n",
        "print(s)\n",
        "print(type(s))\n",
        "\n",
        "print(s[1])"
      ],
      "metadata": {
        "colab": {
          "base_uri": "https://localhost:8080/"
        },
        "id": "94AcEti8ydoJ",
        "outputId": "3667e76e-0e93-4991-ff80-a939441e76a8"
      },
      "execution_count": null,
      "outputs": [
        {
          "output_type": "stream",
          "name": "stdout",
          "text": [
            "1    1\n",
            "2    2\n",
            "3    3\n",
            "4    4\n",
            "5    5\n",
            "dtype: int64\n",
            "<class 'pandas.core.series.Series'>\n",
            "2\n"
          ]
        },
        {
          "output_type": "stream",
          "name": "stderr",
          "text": [
            "<ipython-input-16-9b5435376608>:6: FutureWarning: Series.__getitem__ treating keys as positions is deprecated. In a future version, integer keys will always be treated as labels (consistent with DataFrame behavior). To access a value by position, use `ser.iloc[pos]`\n",
            "  print(s[1])\n"
          ]
        }
      ]
    },
    {
      "cell_type": "markdown",
      "source": [
        "series fron scalar value"
      ],
      "metadata": {
        "id": "8j6-s22N35m7"
      }
    },
    {
      "cell_type": "code",
      "source": [
        "series = pd.Series(5, index=[1,2,3,4,5,6,7,8,9]) # it will depend on the index that as many as you give the index the element will be increased\n",
        "print(series)"
      ],
      "metadata": {
        "colab": {
          "base_uri": "https://localhost:8080/"
        },
        "id": "rRU4esYT343i",
        "outputId": "90874d8b-122d-4e98-e49f-af059e0a24ca"
      },
      "execution_count": null,
      "outputs": [
        {
          "output_type": "stream",
          "name": "stdout",
          "text": [
            "1    5\n",
            "2    5\n",
            "3    5\n",
            "4    5\n",
            "5    5\n",
            "6    5\n",
            "7    5\n",
            "8    5\n",
            "9    5\n",
            "dtype: int64\n"
          ]
        }
      ]
    },
    {
      "cell_type": "code",
      "source": [
        "index = range(10)\n",
        "series = pd.Series(5,index = index)\n",
        "print(series)"
      ],
      "metadata": {
        "colab": {
          "base_uri": "https://localhost:8080/"
        },
        "id": "QuQNCmup4hH2",
        "outputId": "a0fae0e4-1679-4421-c4b0-72bc870a6109"
      },
      "execution_count": null,
      "outputs": [
        {
          "output_type": "stream",
          "name": "stdout",
          "text": [
            "0    5\n",
            "1    5\n",
            "2    5\n",
            "3    5\n",
            "4    5\n",
            "5    5\n",
            "6    5\n",
            "7    5\n",
            "8    5\n",
            "9    5\n",
            "dtype: int64\n"
          ]
        }
      ]
    },
    {
      "cell_type": "markdown",
      "source": [
        "dataFrames"
      ],
      "metadata": {
        "id": "B55lTE0e8dkr"
      }
    },
    {
      "cell_type": "code",
      "source": [
        "data ={\n",
        "    'product ' : ['laptop' , 'tablet' , 'mobile'],\n",
        "    'price' : [1000 , 2000 , 3000]\n",
        "}\n",
        "df = pd.DataFrame(data , index=['a' , 'b' , 'c']) # by this way we can give custom index to the dataframes\n",
        "print(df)"
      ],
      "metadata": {
        "colab": {
          "base_uri": "https://localhost:8080/"
        },
        "id": "9d7NOgVB8cak",
        "outputId": "52f3f303-3f44-4041-99f9-7382471c81a7"
      },
      "execution_count": null,
      "outputs": [
        {
          "output_type": "stream",
          "name": "stdout",
          "text": [
            "  product   price\n",
            "a   laptop   1000\n",
            "b   tablet   2000\n",
            "c   mobile   3000\n"
          ]
        }
      ]
    },
    {
      "cell_type": "code",
      "source": [
        "arr = [['mango' , 'apple' , 'banana'], [100 , 200 , 300] , ['a' , 'b' , 'c']]\n",
        "df = pd.DataFrame(arr)\n",
        "print(df)"
      ],
      "metadata": {
        "colab": {
          "base_uri": "https://localhost:8080/"
        },
        "id": "r1TNdGJj8gq0",
        "outputId": "1755c273-944a-48f7-84de-574408af96fe"
      },
      "execution_count": null,
      "outputs": [
        {
          "output_type": "stream",
          "name": "stdout",
          "text": [
            "       0      1       2\n",
            "0  mango  apple  banana\n",
            "1    100    200     300\n",
            "2      a      b       c\n"
          ]
        }
      ]
    },
    {
      "cell_type": "markdown",
      "source": [
        "**dataframe using nd array**\n"
      ],
      "metadata": {
        "id": "Awf4cNh5EI13"
      }
    },
    {
      "cell_type": "code",
      "source": [
        "arr = np.array([['mango' , 'apple' , 'banana'], [100 , 200 , 300] , ['a' , 'b' , 'c']])\n",
        "df = pd.DataFrame(arr)\n",
        "print(df)\n",
        "# 2d array"
      ],
      "metadata": {
        "colab": {
          "base_uri": "https://localhost:8080/"
        },
        "id": "v3gUZRPfDykS",
        "outputId": "76f43b26-5f87-4dda-a7c1-506e68d77633"
      },
      "execution_count": null,
      "outputs": [
        {
          "output_type": "stream",
          "name": "stdout",
          "text": [
            "       0      1       2\n",
            "0  mango  apple  banana\n",
            "1    100    200     300\n",
            "2      a      b       c\n"
          ]
        }
      ]
    },
    {
      "cell_type": "code",
      "source": [
        "arr = np.array([100,200,300])\n",
        "df = pd.DataFrame(arr)\n",
        "print(df)\n",
        "# 1d array"
      ],
      "metadata": {
        "colab": {
          "base_uri": "https://localhost:8080/"
        },
        "id": "ZBQwHRy7EAuz",
        "outputId": "bc772192-0b84-4532-fadf-2e495229b2d6"
      },
      "execution_count": null,
      "outputs": [
        {
          "output_type": "stream",
          "name": "stdout",
          "text": [
            "     0\n",
            "0  100\n",
            "1  200\n",
            "2  300\n"
          ]
        }
      ]
    },
    {
      "cell_type": "code",
      "source": [
        "# series to dataframes\n",
        "s = pd.Series(['hello', 'hi', 'hey'])\n",
        "df = pd.DataFrame(s)\n",
        "print(df)\n"
      ],
      "metadata": {
        "colab": {
          "base_uri": "https://localhost:8080/"
        },
        "id": "Arhr74E2EfTq",
        "outputId": "3a106f25-a71d-4003-c81b-0928636ad230"
      },
      "execution_count": null,
      "outputs": [
        {
          "output_type": "stream",
          "name": "stdout",
          "text": [
            "       0\n",
            "0  hello\n",
            "1     hi\n",
            "2    hey\n"
          ]
        }
      ]
    },
    {
      "cell_type": "markdown",
      "source": [
        "list of dictonary"
      ],
      "metadata": {
        "id": "b8MIo4x7GOla"
      }
    },
    {
      "cell_type": "code",
      "source": [
        "dataset = [\n",
        "    {'course': 'python', 'fee': 10000 , 'mentor':'paras' , 'rating' : 5},\n",
        "    {'course': 'cpp', 'fee': 20000 , 'mentor' : 'neha' , 'rating' : 4},\n",
        "    {'course': 'java', 'fee': 30000 , 'mentor' : 'xyz'},\n",
        "    {'course': 'javascript', 'fee': 30000 , 'mentor' : 'abc'}\n",
        "]\n",
        "df = pd.DataFrame(dataset)\n",
        "print(df)"
      ],
      "metadata": {
        "colab": {
          "base_uri": "https://localhost:8080/"
        },
        "id": "bGDlFRfPGK4E",
        "outputId": "1411f856-d9f2-4e6f-d182-ba7eb6fb58b9"
      },
      "execution_count": null,
      "outputs": [
        {
          "output_type": "stream",
          "name": "stdout",
          "text": [
            "       course    fee mentor  rating\n",
            "0      python  10000  paras     5.0\n",
            "1         cpp  20000   neha     4.0\n",
            "2        java  30000    xyz     NaN\n",
            "3  javascript  30000    abc     NaN\n"
          ]
        }
      ]
    },
    {
      "cell_type": "code",
      "source": [
        "dataset ={\n",
        "    \"A\" : 1.0,\n",
        "    \"B\" : pd.Timestamp('20241102'),\n",
        "    \"C\" : pd.Series(1, index=range(4),dtype=float),\n",
        "    \"D\" : np.array([3] * 4 , dtype=int),\n",
        "    \"E\" : pd.Categorical(['test', 'train', 'test', 'train']),\n",
        "    \"F\" : 'foo'\n",
        "}\n",
        "df = pd.DataFrame(dataset)\n",
        "print(df)\n"
      ],
      "metadata": {
        "colab": {
          "base_uri": "https://localhost:8080/"
        },
        "id": "Nq_69ojiGRyx",
        "outputId": "b21386b5-d8bb-445f-afa5-829086ec40ca"
      },
      "execution_count": null,
      "outputs": [
        {
          "output_type": "stream",
          "name": "stdout",
          "text": [
            "     A          B    C  D      E    F\n",
            "0  1.0 2024-11-02  1.0  3   test  foo\n",
            "1  1.0 2024-11-02  1.0  3  train  foo\n",
            "2  1.0 2024-11-02  1.0  3   test  foo\n",
            "3  1.0 2024-11-02  1.0  3  train  foo\n"
          ]
        }
      ]
    },
    {
      "cell_type": "code",
      "source": [
        "dataset = {\n",
        "    \"D\" : np.array([3] * 4 , dtype=int),\n",
        "}\n",
        "df = pd.DataFrame(dataset)\n",
        "print(df)"
      ],
      "metadata": {
        "colab": {
          "base_uri": "https://localhost:8080/"
        },
        "id": "C6aACnxeJWDt",
        "outputId": "38651894-0037-4113-e9b9-fa36b9261b4d"
      },
      "execution_count": null,
      "outputs": [
        {
          "output_type": "stream",
          "name": "stdout",
          "text": [
            "   D\n",
            "0  3\n",
            "1  3\n",
            "2  3\n",
            "3  3\n"
          ]
        }
      ]
    },
    {
      "cell_type": "code",
      "source": [
        "s = pd.Series(1, index = [1,2,3,4])\n",
        "print(s)"
      ],
      "metadata": {
        "colab": {
          "base_uri": "https://localhost:8080/"
        },
        "id": "qn_LikwiOdK7",
        "outputId": "524be2ca-c440-4f7c-d58f-bc9a20c204d0"
      },
      "execution_count": null,
      "outputs": [
        {
          "output_type": "stream",
          "name": "stdout",
          "text": [
            "1    1\n",
            "2    1\n",
            "3    1\n",
            "4    1\n",
            "dtype: int64\n"
          ]
        }
      ]
    },
    {
      "cell_type": "markdown",
      "source": [
        "coping the dataframe"
      ],
      "metadata": {
        "id": "gXg4VEIMT58I"
      }
    },
    {
      "cell_type": "code",
      "source": [
        "dataset = [\n",
        "    {'course': 'python', 'fee': 10000 , 'mentor':'paras' , 'rating' : 5},\n",
        "    {'course': 'cpp', 'fee': 20000 , 'mentor' : 'neha' , 'rating' : 4},\n",
        "    {'course': 'java', 'fee': 30000 , 'mentor' : 'xyz'},\n",
        "    {'course': 'javascript', 'fee': 30000 , 'mentor' : 'abc'}\n",
        "]\n",
        "\n",
        "df = pd.DataFrame(dataset)\n",
        "newdf = df[['course', 'fee']].copy()\n",
        "print(newdf)"
      ],
      "metadata": {
        "colab": {
          "base_uri": "https://localhost:8080/"
        },
        "id": "XfXDTHHOT4Cy",
        "outputId": "af5d9552-6eb4-491d-bb4e-0897d585b983"
      },
      "execution_count": null,
      "outputs": [
        {
          "output_type": "stream",
          "name": "stdout",
          "text": [
            "       course    fee\n",
            "0      python  10000\n",
            "1         cpp  20000\n",
            "2        java  30000\n",
            "3  javascript  30000\n"
          ]
        }
      ]
    },
    {
      "cell_type": "markdown",
      "source": [
        "to drop the particular cloumn"
      ],
      "metadata": {
        "id": "HvlefWLlVn_C"
      }
    },
    {
      "cell_type": "code",
      "source": [
        "dataset = [\n",
        "    {'course': 'python', 'fee': 10000 , 'mentor':'paras' , 'rating' : 5},\n",
        "    {'course': 'cpp', 'fee': 20000 , 'mentor' : 'neha' , 'rating' : 4},\n",
        "    {'course': 'java', 'fee': 30000 , 'mentor' : 'xyz'},\n",
        "    {'course': 'javascript', 'fee': 30000 , 'mentor' : 'abc'}\n",
        "]\n",
        "\n",
        "df = pd.DataFrame(dataset)\n",
        "df.drop('rating', axis = 1, inplace = True)\n",
        "print(df)"
      ],
      "metadata": {
        "colab": {
          "base_uri": "https://localhost:8080/"
        },
        "id": "KIsZ5J6nVseg",
        "outputId": "5dbe4fd7-31f1-42ae-f219-791214ff5174"
      },
      "execution_count": null,
      "outputs": [
        {
          "output_type": "stream",
          "name": "stdout",
          "text": [
            "       course    fee mentor\n",
            "0      python  10000  paras\n",
            "1         cpp  20000   neha\n",
            "2        java  30000    xyz\n",
            "3  javascript  30000    abc\n"
          ]
        }
      ]
    },
    {
      "cell_type": "code",
      "source": [
        "dataset = [\n",
        "    {'course': 'python', 'fee': 10000 , 'mentor':'paras' , 'rating' : 5},\n",
        "    {'course': 'cpp', 'fee': 20000 , 'mentor' : 'neha' , 'rating' : 4},\n",
        "    {'course': 'java', 'fee': 30000 , 'mentor' : 'xyz'},\n",
        "    {'course': 'javascript', 'fee': 30000 , 'mentor' : 'abc'}\n",
        "]\n",
        "\n",
        "df = pd.DataFrame(dataset)\n",
        "df.drop(1, axis = 0, inplace = True) # inplace to change in the original dataFrame\n",
        "print(df)"
      ],
      "metadata": {
        "colab": {
          "base_uri": "https://localhost:8080/"
        },
        "id": "mpACSCvpXPKT",
        "outputId": "bd392327-f0e9-428a-9e7b-bd163328f241"
      },
      "execution_count": null,
      "outputs": [
        {
          "output_type": "stream",
          "name": "stdout",
          "text": [
            "       course    fee mentor  rating\n",
            "0      python  10000  paras     5.0\n",
            "2        java  30000    xyz     NaN\n",
            "3  javascript  30000    abc     NaN\n"
          ]
        }
      ]
    },
    {
      "cell_type": "code",
      "source": [
        "dataset = [\n",
        "    {'course': 'python', 'fee': 10000 , 'mentor':'paras' , 'rating' : 5},\n",
        "    {'course': 'cpp', 'fee': 20000 , 'mentor' : 'neha' , 'rating' : 4},\n",
        "    {'course': 'java', 'fee': 30000 , 'mentor' : 'xyz'},\n",
        "    {'course': 'javascript', 'fee': 30000 , 'mentor' : 'abc'}\n",
        "]\n",
        "df = pd.DataFrame(dataset)\n",
        "newdf = df.drop('rating', axis = 1)\n",
        "print(newdf)\n",
        "print(df)"
      ],
      "metadata": {
        "colab": {
          "base_uri": "https://localhost:8080/"
        },
        "id": "zZKMjaaaXXpw",
        "outputId": "18caf1ff-2ec3-414a-bca6-8db2e5697160"
      },
      "execution_count": null,
      "outputs": [
        {
          "output_type": "stream",
          "name": "stdout",
          "text": [
            "       course    fee mentor\n",
            "0      python  10000  paras\n",
            "1         cpp  20000   neha\n",
            "2        java  30000    xyz\n",
            "3  javascript  30000    abc\n",
            "       course    fee mentor  rating\n",
            "0      python  10000  paras     5.0\n",
            "1         cpp  20000   neha     4.0\n",
            "2        java  30000    xyz     NaN\n",
            "3  javascript  30000    abc     NaN\n"
          ]
        }
      ]
    },
    {
      "cell_type": "code",
      "source": [
        "dataset = [\n",
        "    {'course': 'python', 'fee': 10000 , 'mentor':'paras' , 'rating' : 5},\n",
        "    {'course': 'cpp', 'fee': 20000 , 'mentor' : 'neha' , 'rating' : 4},\n",
        "    {'course': 'java', 'fee': 30000 , 'mentor' : 'xyz'},\n",
        "    {'course': 'javascript', 'fee': 30000 , 'mentor' : 'abc'}\n",
        "]\n",
        "df = pd.DataFrame(dataset)\n",
        "newdf = df.drop(df.index[1])\n",
        "print(df)\n",
        "print(newdf)"
      ],
      "metadata": {
        "colab": {
          "base_uri": "https://localhost:8080/"
        },
        "id": "qDt0nWxYYSLP",
        "outputId": "31931b3e-f43c-4c3a-eaf9-3cc9201123dd"
      },
      "execution_count": null,
      "outputs": [
        {
          "output_type": "stream",
          "name": "stdout",
          "text": [
            "       course    fee mentor  rating\n",
            "0      python  10000  paras     5.0\n",
            "1         cpp  20000   neha     4.0\n",
            "2        java  30000    xyz     NaN\n",
            "3  javascript  30000    abc     NaN\n",
            "       course    fee mentor  rating\n",
            "0      python  10000  paras     5.0\n",
            "2        java  30000    xyz     NaN\n",
            "3  javascript  30000    abc     NaN\n"
          ]
        }
      ]
    },
    {
      "cell_type": "code",
      "source": [
        "result = pd.date_range('20241101' , periods = 6)\n",
        "print(result)\n",
        "\n",
        "df = pd.DataFrame(np.random.randn(6,4) , index = result , columns = list('abcd'))\n",
        "print(df)"
      ],
      "metadata": {
        "colab": {
          "base_uri": "https://localhost:8080/"
        },
        "id": "u4u8sxNjcO6C",
        "outputId": "99175569-6459-4891-c69f-3b901f20c2b4"
      },
      "execution_count": null,
      "outputs": [
        {
          "output_type": "stream",
          "name": "stdout",
          "text": [
            "DatetimeIndex(['2024-11-01', '2024-11-02', '2024-11-03', '2024-11-04',\n",
            "               '2024-11-05', '2024-11-06'],\n",
            "              dtype='datetime64[ns]', freq='D')\n",
            "                   a         b         c         d\n",
            "2024-11-01  0.543357 -1.234965  0.878567 -0.871748\n",
            "2024-11-02 -1.695998  0.827924 -0.012911 -1.492318\n",
            "2024-11-03  0.737267  0.467401 -1.359924  1.065882\n",
            "2024-11-04 -0.328751 -0.324842  0.472167  0.864891\n",
            "2024-11-05 -0.396679 -1.360684  0.639144  1.354917\n",
            "2024-11-06 -1.698406  0.476603 -1.010017 -1.241852\n"
          ]
        }
      ]
    },
    {
      "cell_type": "code",
      "source": [
        "data ={\n",
        "    'product ' : ['laptop' , 'tablet' , 'mobile'],\n",
        "    'price' : [1000 , 2000 , 3000]\n",
        "}\n",
        "df = pd.DataFrame(data)\n",
        "max = df['price'].max()\n",
        "# max = df['price'].min()\n",
        "# max = df['price'].mean()\n",
        "# max = df['price'].median()\n",
        "# max = df['price'].mode()\n",
        "\n",
        "print(max)"
      ],
      "metadata": {
        "colab": {
          "base_uri": "https://localhost:8080/"
        },
        "id": "wTbdGM-xdsax",
        "outputId": "88e60d95-97ee-4152-f657-1f7569fd0105"
      },
      "execution_count": null,
      "outputs": [
        {
          "output_type": "stream",
          "name": "stdout",
          "text": [
            "3000\n"
          ]
        }
      ]
    },
    {
      "cell_type": "markdown",
      "source": [
        "add the value by the number"
      ],
      "metadata": {
        "id": "cHad0Ir_hJ47"
      }
    },
    {
      "cell_type": "code",
      "source": [
        "dataframe = pd.DataFrame({\n",
        "    'teamA' : [10,20,30],\n",
        "    'teamB' : [40,50,60],\n",
        "    'teamC' : [70,80,90]\n",
        "})\n",
        "newdf = dataframe.add(10) # each value will be added by 10\n",
        "print(dataframe)\n",
        "print(newdf)\n"
      ],
      "metadata": {
        "colab": {
          "base_uri": "https://localhost:8080/"
        },
        "id": "q59Pepwdh9ze",
        "outputId": "5600b411-6c2a-4507-a2a8-48da024ce54c"
      },
      "execution_count": null,
      "outputs": [
        {
          "output_type": "stream",
          "name": "stdout",
          "text": [
            "   teamA  teamB  teamC\n",
            "0     10     40     70\n",
            "1     20     50     80\n",
            "2     30     60     90\n",
            "   teamA  teamB  teamC\n",
            "0     20     50     80\n",
            "1     30     60     90\n",
            "2     40     70    100\n"
          ]
        }
      ]
    },
    {
      "cell_type": "markdown",
      "source": [
        "concat 2 data frames"
      ],
      "metadata": {
        "id": "3HBdLdaPhITw"
      }
    },
    {
      "cell_type": "code",
      "source": [
        "df = pd.DataFrame({\n",
        "    \"A\": [1,2,3],\n",
        "    \"B\": [4,5,6],\n",
        "    \"C\": [7,8,9]\n",
        "})\n",
        "df2 = pd.DataFrame({\n",
        "    \"A\": [10,20,30],\n",
        "    \"B\": [40,50,60],\n",
        "    \"C\": [70,80,90]\n",
        "})\n",
        "\n",
        "newdf = pd.concat([df,df2])\n",
        "print(newdf)\n"
      ],
      "metadata": {
        "colab": {
          "base_uri": "https://localhost:8080/"
        },
        "id": "WY2Y7rvNkiXr",
        "outputId": "160898ff-2783-45a1-deff-564da2c1d24c"
      },
      "execution_count": null,
      "outputs": [
        {
          "output_type": "stream",
          "name": "stdout",
          "text": [
            "    A   B   C\n",
            "0   1   4   7\n",
            "1   2   5   8\n",
            "2   3   6   9\n",
            "3  10  40  70\n",
            "4  20  50  80\n",
            "5  30  60  90\n"
          ]
        }
      ]
    },
    {
      "cell_type": "code",
      "source": [
        "df = pd.DataFrame({\n",
        "    \"A\": [1,2,3],\n",
        "    \"B\": [4,5,6],\n",
        "    \"C\": [7,8,9]\n",
        "})\n",
        "df2 = pd.DataFrame({\n",
        "    \"A\": [10,20,30],\n",
        "    \"B\": [40,50,60],\n",
        "    \"C\": [70,80,90]\n",
        "})\n",
        "\n",
        "newdf = pd.concat([df,df2] , ignore_index = True) # ignore_index will ignore the index\n",
        "print(newdf)\n"
      ],
      "metadata": {
        "colab": {
          "base_uri": "https://localhost:8080/"
        },
        "id": "dSzDczF7GIe_",
        "outputId": "66c9441d-fd89-459b-c832-14b4bea90489"
      },
      "execution_count": null,
      "outputs": [
        {
          "output_type": "stream",
          "name": "stdout",
          "text": [
            "    A   B   C\n",
            "0   1   4   7\n",
            "1   2   5   8\n",
            "2   3   6   9\n",
            "3  10  40  70\n",
            "4  20  50  80\n",
            "5  30  60  90\n"
          ]
        }
      ]
    },
    {
      "cell_type": "code",
      "source": [
        "df = pd.DataFrame({\n",
        "    \"A\": [1,2,3],\n",
        "    \"B\": [4,5,6],\n",
        "    \"C\": [7,8,9]\n",
        "})\n",
        "df2 = pd.DataFrame({\n",
        "    \"A\": [10,20,30],\n",
        "    \"B\": [40,50,60],\n",
        "    \"C\": [70,80,90]\n",
        "})\n",
        "newdf = pd.concat([df,df2] , keys = ['k1', 'k2']) # it will seprate the index where the second dataframe is concat\n",
        "print(newdf)\n",
        "\n",
        "newdf.head() # to print the data in good formate"
      ],
      "metadata": {
        "colab": {
          "base_uri": "https://localhost:8080/",
          "height": 327
        },
        "id": "UmMF9rIVGQBa",
        "outputId": "ad4ad5ed-ba1a-440e-acfb-43f84bc6a1e1"
      },
      "execution_count": null,
      "outputs": [
        {
          "output_type": "stream",
          "name": "stdout",
          "text": [
            "       A   B   C\n",
            "k1 0   1   4   7\n",
            "   1   2   5   8\n",
            "   2   3   6   9\n",
            "k2 0  10  40  70\n",
            "   1  20  50  80\n",
            "   2  30  60  90\n"
          ]
        },
        {
          "output_type": "execute_result",
          "data": {
            "text/plain": [
              "       A   B   C\n",
              "k1 0   1   4   7\n",
              "   1   2   5   8\n",
              "   2   3   6   9\n",
              "k2 0  10  40  70\n",
              "   1  20  50  80"
            ],
            "text/html": [
              "\n",
              "  <div id=\"df-87a254fd-814a-4abb-ae2b-5efbf4a1eaa2\" class=\"colab-df-container\">\n",
              "    <div>\n",
              "<style scoped>\n",
              "    .dataframe tbody tr th:only-of-type {\n",
              "        vertical-align: middle;\n",
              "    }\n",
              "\n",
              "    .dataframe tbody tr th {\n",
              "        vertical-align: top;\n",
              "    }\n",
              "\n",
              "    .dataframe thead th {\n",
              "        text-align: right;\n",
              "    }\n",
              "</style>\n",
              "<table border=\"1\" class=\"dataframe\">\n",
              "  <thead>\n",
              "    <tr style=\"text-align: right;\">\n",
              "      <th></th>\n",
              "      <th></th>\n",
              "      <th>A</th>\n",
              "      <th>B</th>\n",
              "      <th>C</th>\n",
              "    </tr>\n",
              "  </thead>\n",
              "  <tbody>\n",
              "    <tr>\n",
              "      <th rowspan=\"3\" valign=\"top\">k1</th>\n",
              "      <th>0</th>\n",
              "      <td>1</td>\n",
              "      <td>4</td>\n",
              "      <td>7</td>\n",
              "    </tr>\n",
              "    <tr>\n",
              "      <th>1</th>\n",
              "      <td>2</td>\n",
              "      <td>5</td>\n",
              "      <td>8</td>\n",
              "    </tr>\n",
              "    <tr>\n",
              "      <th>2</th>\n",
              "      <td>3</td>\n",
              "      <td>6</td>\n",
              "      <td>9</td>\n",
              "    </tr>\n",
              "    <tr>\n",
              "      <th rowspan=\"2\" valign=\"top\">k2</th>\n",
              "      <th>0</th>\n",
              "      <td>10</td>\n",
              "      <td>40</td>\n",
              "      <td>70</td>\n",
              "    </tr>\n",
              "    <tr>\n",
              "      <th>1</th>\n",
              "      <td>20</td>\n",
              "      <td>50</td>\n",
              "      <td>80</td>\n",
              "    </tr>\n",
              "  </tbody>\n",
              "</table>\n",
              "</div>\n",
              "    <div class=\"colab-df-buttons\">\n",
              "\n",
              "  <div class=\"colab-df-container\">\n",
              "    <button class=\"colab-df-convert\" onclick=\"convertToInteractive('df-87a254fd-814a-4abb-ae2b-5efbf4a1eaa2')\"\n",
              "            title=\"Convert this dataframe to an interactive table.\"\n",
              "            style=\"display:none;\">\n",
              "\n",
              "  <svg xmlns=\"http://www.w3.org/2000/svg\" height=\"24px\" viewBox=\"0 -960 960 960\">\n",
              "    <path d=\"M120-120v-720h720v720H120Zm60-500h600v-160H180v160Zm220 220h160v-160H400v160Zm0 220h160v-160H400v160ZM180-400h160v-160H180v160Zm440 0h160v-160H620v160ZM180-180h160v-160H180v160Zm440 0h160v-160H620v160Z\"/>\n",
              "  </svg>\n",
              "    </button>\n",
              "\n",
              "  <style>\n",
              "    .colab-df-container {\n",
              "      display:flex;\n",
              "      gap: 12px;\n",
              "    }\n",
              "\n",
              "    .colab-df-convert {\n",
              "      background-color: #E8F0FE;\n",
              "      border: none;\n",
              "      border-radius: 50%;\n",
              "      cursor: pointer;\n",
              "      display: none;\n",
              "      fill: #1967D2;\n",
              "      height: 32px;\n",
              "      padding: 0 0 0 0;\n",
              "      width: 32px;\n",
              "    }\n",
              "\n",
              "    .colab-df-convert:hover {\n",
              "      background-color: #E2EBFA;\n",
              "      box-shadow: 0px 1px 2px rgba(60, 64, 67, 0.3), 0px 1px 3px 1px rgba(60, 64, 67, 0.15);\n",
              "      fill: #174EA6;\n",
              "    }\n",
              "\n",
              "    .colab-df-buttons div {\n",
              "      margin-bottom: 4px;\n",
              "    }\n",
              "\n",
              "    [theme=dark] .colab-df-convert {\n",
              "      background-color: #3B4455;\n",
              "      fill: #D2E3FC;\n",
              "    }\n",
              "\n",
              "    [theme=dark] .colab-df-convert:hover {\n",
              "      background-color: #434B5C;\n",
              "      box-shadow: 0px 1px 3px 1px rgba(0, 0, 0, 0.15);\n",
              "      filter: drop-shadow(0px 1px 2px rgba(0, 0, 0, 0.3));\n",
              "      fill: #FFFFFF;\n",
              "    }\n",
              "  </style>\n",
              "\n",
              "    <script>\n",
              "      const buttonEl =\n",
              "        document.querySelector('#df-87a254fd-814a-4abb-ae2b-5efbf4a1eaa2 button.colab-df-convert');\n",
              "      buttonEl.style.display =\n",
              "        google.colab.kernel.accessAllowed ? 'block' : 'none';\n",
              "\n",
              "      async function convertToInteractive(key) {\n",
              "        const element = document.querySelector('#df-87a254fd-814a-4abb-ae2b-5efbf4a1eaa2');\n",
              "        const dataTable =\n",
              "          await google.colab.kernel.invokeFunction('convertToInteractive',\n",
              "                                                    [key], {});\n",
              "        if (!dataTable) return;\n",
              "\n",
              "        const docLinkHtml = 'Like what you see? Visit the ' +\n",
              "          '<a target=\"_blank\" href=https://colab.research.google.com/notebooks/data_table.ipynb>data table notebook</a>'\n",
              "          + ' to learn more about interactive tables.';\n",
              "        element.innerHTML = '';\n",
              "        dataTable['output_type'] = 'display_data';\n",
              "        await google.colab.output.renderOutput(dataTable, element);\n",
              "        const docLink = document.createElement('div');\n",
              "        docLink.innerHTML = docLinkHtml;\n",
              "        element.appendChild(docLink);\n",
              "      }\n",
              "    </script>\n",
              "  </div>\n",
              "\n",
              "\n",
              "<div id=\"df-673cb7fa-f309-4030-a87e-12519d48bd5a\">\n",
              "  <button class=\"colab-df-quickchart\" onclick=\"quickchart('df-673cb7fa-f309-4030-a87e-12519d48bd5a')\"\n",
              "            title=\"Suggest charts\"\n",
              "            style=\"display:none;\">\n",
              "\n",
              "<svg xmlns=\"http://www.w3.org/2000/svg\" height=\"24px\"viewBox=\"0 0 24 24\"\n",
              "     width=\"24px\">\n",
              "    <g>\n",
              "        <path d=\"M19 3H5c-1.1 0-2 .9-2 2v14c0 1.1.9 2 2 2h14c1.1 0 2-.9 2-2V5c0-1.1-.9-2-2-2zM9 17H7v-7h2v7zm4 0h-2V7h2v10zm4 0h-2v-4h2v4z\"/>\n",
              "    </g>\n",
              "</svg>\n",
              "  </button>\n",
              "\n",
              "<style>\n",
              "  .colab-df-quickchart {\n",
              "      --bg-color: #E8F0FE;\n",
              "      --fill-color: #1967D2;\n",
              "      --hover-bg-color: #E2EBFA;\n",
              "      --hover-fill-color: #174EA6;\n",
              "      --disabled-fill-color: #AAA;\n",
              "      --disabled-bg-color: #DDD;\n",
              "  }\n",
              "\n",
              "  [theme=dark] .colab-df-quickchart {\n",
              "      --bg-color: #3B4455;\n",
              "      --fill-color: #D2E3FC;\n",
              "      --hover-bg-color: #434B5C;\n",
              "      --hover-fill-color: #FFFFFF;\n",
              "      --disabled-bg-color: #3B4455;\n",
              "      --disabled-fill-color: #666;\n",
              "  }\n",
              "\n",
              "  .colab-df-quickchart {\n",
              "    background-color: var(--bg-color);\n",
              "    border: none;\n",
              "    border-radius: 50%;\n",
              "    cursor: pointer;\n",
              "    display: none;\n",
              "    fill: var(--fill-color);\n",
              "    height: 32px;\n",
              "    padding: 0;\n",
              "    width: 32px;\n",
              "  }\n",
              "\n",
              "  .colab-df-quickchart:hover {\n",
              "    background-color: var(--hover-bg-color);\n",
              "    box-shadow: 0 1px 2px rgba(60, 64, 67, 0.3), 0 1px 3px 1px rgba(60, 64, 67, 0.15);\n",
              "    fill: var(--button-hover-fill-color);\n",
              "  }\n",
              "\n",
              "  .colab-df-quickchart-complete:disabled,\n",
              "  .colab-df-quickchart-complete:disabled:hover {\n",
              "    background-color: var(--disabled-bg-color);\n",
              "    fill: var(--disabled-fill-color);\n",
              "    box-shadow: none;\n",
              "  }\n",
              "\n",
              "  .colab-df-spinner {\n",
              "    border: 2px solid var(--fill-color);\n",
              "    border-color: transparent;\n",
              "    border-bottom-color: var(--fill-color);\n",
              "    animation:\n",
              "      spin 1s steps(1) infinite;\n",
              "  }\n",
              "\n",
              "  @keyframes spin {\n",
              "    0% {\n",
              "      border-color: transparent;\n",
              "      border-bottom-color: var(--fill-color);\n",
              "      border-left-color: var(--fill-color);\n",
              "    }\n",
              "    20% {\n",
              "      border-color: transparent;\n",
              "      border-left-color: var(--fill-color);\n",
              "      border-top-color: var(--fill-color);\n",
              "    }\n",
              "    30% {\n",
              "      border-color: transparent;\n",
              "      border-left-color: var(--fill-color);\n",
              "      border-top-color: var(--fill-color);\n",
              "      border-right-color: var(--fill-color);\n",
              "    }\n",
              "    40% {\n",
              "      border-color: transparent;\n",
              "      border-right-color: var(--fill-color);\n",
              "      border-top-color: var(--fill-color);\n",
              "    }\n",
              "    60% {\n",
              "      border-color: transparent;\n",
              "      border-right-color: var(--fill-color);\n",
              "    }\n",
              "    80% {\n",
              "      border-color: transparent;\n",
              "      border-right-color: var(--fill-color);\n",
              "      border-bottom-color: var(--fill-color);\n",
              "    }\n",
              "    90% {\n",
              "      border-color: transparent;\n",
              "      border-bottom-color: var(--fill-color);\n",
              "    }\n",
              "  }\n",
              "</style>\n",
              "\n",
              "  <script>\n",
              "    async function quickchart(key) {\n",
              "      const quickchartButtonEl =\n",
              "        document.querySelector('#' + key + ' button');\n",
              "      quickchartButtonEl.disabled = true;  // To prevent multiple clicks.\n",
              "      quickchartButtonEl.classList.add('colab-df-spinner');\n",
              "      try {\n",
              "        const charts = await google.colab.kernel.invokeFunction(\n",
              "            'suggestCharts', [key], {});\n",
              "      } catch (error) {\n",
              "        console.error('Error during call to suggestCharts:', error);\n",
              "      }\n",
              "      quickchartButtonEl.classList.remove('colab-df-spinner');\n",
              "      quickchartButtonEl.classList.add('colab-df-quickchart-complete');\n",
              "    }\n",
              "    (() => {\n",
              "      let quickchartButtonEl =\n",
              "        document.querySelector('#df-673cb7fa-f309-4030-a87e-12519d48bd5a button');\n",
              "      quickchartButtonEl.style.display =\n",
              "        google.colab.kernel.accessAllowed ? 'block' : 'none';\n",
              "    })();\n",
              "  </script>\n",
              "</div>\n",
              "\n",
              "    </div>\n",
              "  </div>\n"
            ],
            "application/vnd.google.colaboratory.intrinsic+json": {
              "type": "dataframe",
              "variable_name": "newdf",
              "summary": "{\n  \"name\": \"newdf\",\n  \"rows\": 6,\n  \"fields\": [\n    {\n      \"column\": \"A\",\n      \"properties\": {\n        \"dtype\": \"number\",\n        \"std\": 11,\n        \"min\": 1,\n        \"max\": 30,\n        \"num_unique_values\": 6,\n        \"samples\": [\n          1,\n          2,\n          30\n        ],\n        \"semantic_type\": \"\",\n        \"description\": \"\"\n      }\n    },\n    {\n      \"column\": \"B\",\n      \"properties\": {\n        \"dtype\": \"number\",\n        \"std\": 25,\n        \"min\": 4,\n        \"max\": 60,\n        \"num_unique_values\": 6,\n        \"samples\": [\n          4,\n          5,\n          60\n        ],\n        \"semantic_type\": \"\",\n        \"description\": \"\"\n      }\n    },\n    {\n      \"column\": \"C\",\n      \"properties\": {\n        \"dtype\": \"number\",\n        \"std\": 39,\n        \"min\": 7,\n        \"max\": 90,\n        \"num_unique_values\": 6,\n        \"samples\": [\n          7,\n          8,\n          90\n        ],\n        \"semantic_type\": \"\",\n        \"description\": \"\"\n      }\n    }\n  ]\n}"
            }
          },
          "metadata": {},
          "execution_count": 30
        }
      ]
    },
    {
      "cell_type": "markdown",
      "source": [
        "adding name of the colunm"
      ],
      "metadata": {
        "id": "CalnmQ6WMGUJ"
      }
    },
    {
      "cell_type": "code",
      "source": [
        "df = pd.DataFrame([['a', 1],['b', 2]])\n",
        "df2 = pd.DataFrame([['c', 3],['d', 4]])\n",
        "\n",
        "newdf = pd.concat([df,df2] , ignore_index = True , names= ['first ' , 'second'])\n",
        "print(newdf)\n"
      ],
      "metadata": {
        "colab": {
          "base_uri": "https://localhost:8080/"
        },
        "id": "ZCFx0U4HGr3B",
        "outputId": "cfa78b36-b58b-442d-cd99-6c4bce4691c3"
      },
      "execution_count": null,
      "outputs": [
        {
          "output_type": "stream",
          "name": "stdout",
          "text": [
            "   0  1\n",
            "0  a  1\n",
            "1  b  2\n",
            "2  c  3\n",
            "3  d  4\n"
          ]
        }
      ]
    },
    {
      "cell_type": "markdown",
      "source": [
        "add column to the dataframe"
      ],
      "metadata": {
        "id": "EebZ5xJ4LpZZ"
      }
    },
    {
      "cell_type": "code",
      "source": [
        "df = pd.DataFrame({\n",
        "    \"A\": [1,2,3],\n",
        "    \"B\": [4,5,6],\n",
        "    \"C\": [7,8,9]\n",
        "})\n",
        "df[\"D\"] = [10,20,30]\n",
        "print(df)"
      ],
      "metadata": {
        "colab": {
          "base_uri": "https://localhost:8080/"
        },
        "id": "W3-lokz1LfXt",
        "outputId": "ef1c4d65-fa7f-41bf-a6b4-ab09244d7f26"
      },
      "execution_count": null,
      "outputs": [
        {
          "output_type": "stream",
          "name": "stdout",
          "text": [
            "   A  B  C   d\n",
            "0  1  4  7  10\n",
            "1  2  5  8  20\n",
            "2  3  6  9  30\n"
          ]
        }
      ]
    },
    {
      "cell_type": "markdown",
      "source": [
        "**data cleaning**"
      ],
      "metadata": {
        "id": "No00v11PkQMG"
      }
    },
    {
      "cell_type": "code",
      "source": [
        "data ={\n",
        "    'name' : ['paras' , 'neha', 'rohit', np.nan, 'harshit',np.nan],\n",
        "    'age' : [23,22,23,np.nan,22, np.nan],\n",
        "    'city': ['ramnagar', 'lodh', 'perumadar', 'ramnagar',np.nan, np.nan]\n",
        "}\n",
        "df = pd.DataFrame(data)\n",
        "# print(df)\n",
        "df.head()"
      ],
      "metadata": {
        "colab": {
          "base_uri": "https://localhost:8080/",
          "height": 206
        },
        "id": "nIbhZ14LQOEQ",
        "outputId": "091ab5b8-b8d4-4d4c-babc-65a7e3f7e9be"
      },
      "execution_count": null,
      "outputs": [
        {
          "output_type": "execute_result",
          "data": {
            "text/plain": [
              "      name   age       city\n",
              "0    paras  23.0   ramnagar\n",
              "1     neha  22.0       lodh\n",
              "2    rohit  23.0  perumadar\n",
              "3      NaN   NaN   ramnagar\n",
              "4  harshit  22.0        NaN"
            ],
            "text/html": [
              "\n",
              "  <div id=\"df-ca05db71-c6cb-4115-afcc-2855237ab60b\" class=\"colab-df-container\">\n",
              "    <div>\n",
              "<style scoped>\n",
              "    .dataframe tbody tr th:only-of-type {\n",
              "        vertical-align: middle;\n",
              "    }\n",
              "\n",
              "    .dataframe tbody tr th {\n",
              "        vertical-align: top;\n",
              "    }\n",
              "\n",
              "    .dataframe thead th {\n",
              "        text-align: right;\n",
              "    }\n",
              "</style>\n",
              "<table border=\"1\" class=\"dataframe\">\n",
              "  <thead>\n",
              "    <tr style=\"text-align: right;\">\n",
              "      <th></th>\n",
              "      <th>name</th>\n",
              "      <th>age</th>\n",
              "      <th>city</th>\n",
              "    </tr>\n",
              "  </thead>\n",
              "  <tbody>\n",
              "    <tr>\n",
              "      <th>0</th>\n",
              "      <td>paras</td>\n",
              "      <td>23.0</td>\n",
              "      <td>ramnagar</td>\n",
              "    </tr>\n",
              "    <tr>\n",
              "      <th>1</th>\n",
              "      <td>neha</td>\n",
              "      <td>22.0</td>\n",
              "      <td>lodh</td>\n",
              "    </tr>\n",
              "    <tr>\n",
              "      <th>2</th>\n",
              "      <td>rohit</td>\n",
              "      <td>23.0</td>\n",
              "      <td>perumadar</td>\n",
              "    </tr>\n",
              "    <tr>\n",
              "      <th>3</th>\n",
              "      <td>NaN</td>\n",
              "      <td>NaN</td>\n",
              "      <td>ramnagar</td>\n",
              "    </tr>\n",
              "    <tr>\n",
              "      <th>4</th>\n",
              "      <td>harshit</td>\n",
              "      <td>22.0</td>\n",
              "      <td>NaN</td>\n",
              "    </tr>\n",
              "  </tbody>\n",
              "</table>\n",
              "</div>\n",
              "    <div class=\"colab-df-buttons\">\n",
              "\n",
              "  <div class=\"colab-df-container\">\n",
              "    <button class=\"colab-df-convert\" onclick=\"convertToInteractive('df-ca05db71-c6cb-4115-afcc-2855237ab60b')\"\n",
              "            title=\"Convert this dataframe to an interactive table.\"\n",
              "            style=\"display:none;\">\n",
              "\n",
              "  <svg xmlns=\"http://www.w3.org/2000/svg\" height=\"24px\" viewBox=\"0 -960 960 960\">\n",
              "    <path d=\"M120-120v-720h720v720H120Zm60-500h600v-160H180v160Zm220 220h160v-160H400v160Zm0 220h160v-160H400v160ZM180-400h160v-160H180v160Zm440 0h160v-160H620v160ZM180-180h160v-160H180v160Zm440 0h160v-160H620v160Z\"/>\n",
              "  </svg>\n",
              "    </button>\n",
              "\n",
              "  <style>\n",
              "    .colab-df-container {\n",
              "      display:flex;\n",
              "      gap: 12px;\n",
              "    }\n",
              "\n",
              "    .colab-df-convert {\n",
              "      background-color: #E8F0FE;\n",
              "      border: none;\n",
              "      border-radius: 50%;\n",
              "      cursor: pointer;\n",
              "      display: none;\n",
              "      fill: #1967D2;\n",
              "      height: 32px;\n",
              "      padding: 0 0 0 0;\n",
              "      width: 32px;\n",
              "    }\n",
              "\n",
              "    .colab-df-convert:hover {\n",
              "      background-color: #E2EBFA;\n",
              "      box-shadow: 0px 1px 2px rgba(60, 64, 67, 0.3), 0px 1px 3px 1px rgba(60, 64, 67, 0.15);\n",
              "      fill: #174EA6;\n",
              "    }\n",
              "\n",
              "    .colab-df-buttons div {\n",
              "      margin-bottom: 4px;\n",
              "    }\n",
              "\n",
              "    [theme=dark] .colab-df-convert {\n",
              "      background-color: #3B4455;\n",
              "      fill: #D2E3FC;\n",
              "    }\n",
              "\n",
              "    [theme=dark] .colab-df-convert:hover {\n",
              "      background-color: #434B5C;\n",
              "      box-shadow: 0px 1px 3px 1px rgba(0, 0, 0, 0.15);\n",
              "      filter: drop-shadow(0px 1px 2px rgba(0, 0, 0, 0.3));\n",
              "      fill: #FFFFFF;\n",
              "    }\n",
              "  </style>\n",
              "\n",
              "    <script>\n",
              "      const buttonEl =\n",
              "        document.querySelector('#df-ca05db71-c6cb-4115-afcc-2855237ab60b button.colab-df-convert');\n",
              "      buttonEl.style.display =\n",
              "        google.colab.kernel.accessAllowed ? 'block' : 'none';\n",
              "\n",
              "      async function convertToInteractive(key) {\n",
              "        const element = document.querySelector('#df-ca05db71-c6cb-4115-afcc-2855237ab60b');\n",
              "        const dataTable =\n",
              "          await google.colab.kernel.invokeFunction('convertToInteractive',\n",
              "                                                    [key], {});\n",
              "        if (!dataTable) return;\n",
              "\n",
              "        const docLinkHtml = 'Like what you see? Visit the ' +\n",
              "          '<a target=\"_blank\" href=https://colab.research.google.com/notebooks/data_table.ipynb>data table notebook</a>'\n",
              "          + ' to learn more about interactive tables.';\n",
              "        element.innerHTML = '';\n",
              "        dataTable['output_type'] = 'display_data';\n",
              "        await google.colab.output.renderOutput(dataTable, element);\n",
              "        const docLink = document.createElement('div');\n",
              "        docLink.innerHTML = docLinkHtml;\n",
              "        element.appendChild(docLink);\n",
              "      }\n",
              "    </script>\n",
              "  </div>\n",
              "\n",
              "\n",
              "<div id=\"df-f253bfee-82be-453e-a8be-3231d13ffd7e\">\n",
              "  <button class=\"colab-df-quickchart\" onclick=\"quickchart('df-f253bfee-82be-453e-a8be-3231d13ffd7e')\"\n",
              "            title=\"Suggest charts\"\n",
              "            style=\"display:none;\">\n",
              "\n",
              "<svg xmlns=\"http://www.w3.org/2000/svg\" height=\"24px\"viewBox=\"0 0 24 24\"\n",
              "     width=\"24px\">\n",
              "    <g>\n",
              "        <path d=\"M19 3H5c-1.1 0-2 .9-2 2v14c0 1.1.9 2 2 2h14c1.1 0 2-.9 2-2V5c0-1.1-.9-2-2-2zM9 17H7v-7h2v7zm4 0h-2V7h2v10zm4 0h-2v-4h2v4z\"/>\n",
              "    </g>\n",
              "</svg>\n",
              "  </button>\n",
              "\n",
              "<style>\n",
              "  .colab-df-quickchart {\n",
              "      --bg-color: #E8F0FE;\n",
              "      --fill-color: #1967D2;\n",
              "      --hover-bg-color: #E2EBFA;\n",
              "      --hover-fill-color: #174EA6;\n",
              "      --disabled-fill-color: #AAA;\n",
              "      --disabled-bg-color: #DDD;\n",
              "  }\n",
              "\n",
              "  [theme=dark] .colab-df-quickchart {\n",
              "      --bg-color: #3B4455;\n",
              "      --fill-color: #D2E3FC;\n",
              "      --hover-bg-color: #434B5C;\n",
              "      --hover-fill-color: #FFFFFF;\n",
              "      --disabled-bg-color: #3B4455;\n",
              "      --disabled-fill-color: #666;\n",
              "  }\n",
              "\n",
              "  .colab-df-quickchart {\n",
              "    background-color: var(--bg-color);\n",
              "    border: none;\n",
              "    border-radius: 50%;\n",
              "    cursor: pointer;\n",
              "    display: none;\n",
              "    fill: var(--fill-color);\n",
              "    height: 32px;\n",
              "    padding: 0;\n",
              "    width: 32px;\n",
              "  }\n",
              "\n",
              "  .colab-df-quickchart:hover {\n",
              "    background-color: var(--hover-bg-color);\n",
              "    box-shadow: 0 1px 2px rgba(60, 64, 67, 0.3), 0 1px 3px 1px rgba(60, 64, 67, 0.15);\n",
              "    fill: var(--button-hover-fill-color);\n",
              "  }\n",
              "\n",
              "  .colab-df-quickchart-complete:disabled,\n",
              "  .colab-df-quickchart-complete:disabled:hover {\n",
              "    background-color: var(--disabled-bg-color);\n",
              "    fill: var(--disabled-fill-color);\n",
              "    box-shadow: none;\n",
              "  }\n",
              "\n",
              "  .colab-df-spinner {\n",
              "    border: 2px solid var(--fill-color);\n",
              "    border-color: transparent;\n",
              "    border-bottom-color: var(--fill-color);\n",
              "    animation:\n",
              "      spin 1s steps(1) infinite;\n",
              "  }\n",
              "\n",
              "  @keyframes spin {\n",
              "    0% {\n",
              "      border-color: transparent;\n",
              "      border-bottom-color: var(--fill-color);\n",
              "      border-left-color: var(--fill-color);\n",
              "    }\n",
              "    20% {\n",
              "      border-color: transparent;\n",
              "      border-left-color: var(--fill-color);\n",
              "      border-top-color: var(--fill-color);\n",
              "    }\n",
              "    30% {\n",
              "      border-color: transparent;\n",
              "      border-left-color: var(--fill-color);\n",
              "      border-top-color: var(--fill-color);\n",
              "      border-right-color: var(--fill-color);\n",
              "    }\n",
              "    40% {\n",
              "      border-color: transparent;\n",
              "      border-right-color: var(--fill-color);\n",
              "      border-top-color: var(--fill-color);\n",
              "    }\n",
              "    60% {\n",
              "      border-color: transparent;\n",
              "      border-right-color: var(--fill-color);\n",
              "    }\n",
              "    80% {\n",
              "      border-color: transparent;\n",
              "      border-right-color: var(--fill-color);\n",
              "      border-bottom-color: var(--fill-color);\n",
              "    }\n",
              "    90% {\n",
              "      border-color: transparent;\n",
              "      border-bottom-color: var(--fill-color);\n",
              "    }\n",
              "  }\n",
              "</style>\n",
              "\n",
              "  <script>\n",
              "    async function quickchart(key) {\n",
              "      const quickchartButtonEl =\n",
              "        document.querySelector('#' + key + ' button');\n",
              "      quickchartButtonEl.disabled = true;  // To prevent multiple clicks.\n",
              "      quickchartButtonEl.classList.add('colab-df-spinner');\n",
              "      try {\n",
              "        const charts = await google.colab.kernel.invokeFunction(\n",
              "            'suggestCharts', [key], {});\n",
              "      } catch (error) {\n",
              "        console.error('Error during call to suggestCharts:', error);\n",
              "      }\n",
              "      quickchartButtonEl.classList.remove('colab-df-spinner');\n",
              "      quickchartButtonEl.classList.add('colab-df-quickchart-complete');\n",
              "    }\n",
              "    (() => {\n",
              "      let quickchartButtonEl =\n",
              "        document.querySelector('#df-f253bfee-82be-453e-a8be-3231d13ffd7e button');\n",
              "      quickchartButtonEl.style.display =\n",
              "        google.colab.kernel.accessAllowed ? 'block' : 'none';\n",
              "    })();\n",
              "  </script>\n",
              "</div>\n",
              "\n",
              "    </div>\n",
              "  </div>\n"
            ],
            "application/vnd.google.colaboratory.intrinsic+json": {
              "type": "dataframe",
              "variable_name": "df",
              "summary": "{\n  \"name\": \"df\",\n  \"rows\": 6,\n  \"fields\": [\n    {\n      \"column\": \"name\",\n      \"properties\": {\n        \"dtype\": \"string\",\n        \"num_unique_values\": 4,\n        \"samples\": [\n          \"neha\",\n          \"harshit\",\n          \"paras\"\n        ],\n        \"semantic_type\": \"\",\n        \"description\": \"\"\n      }\n    },\n    {\n      \"column\": \"age\",\n      \"properties\": {\n        \"dtype\": \"number\",\n        \"std\": 0.5773502691896257,\n        \"min\": 22.0,\n        \"max\": 23.0,\n        \"num_unique_values\": 2,\n        \"samples\": [\n          22.0,\n          23.0\n        ],\n        \"semantic_type\": \"\",\n        \"description\": \"\"\n      }\n    },\n    {\n      \"column\": \"city\",\n      \"properties\": {\n        \"dtype\": \"string\",\n        \"num_unique_values\": 3,\n        \"samples\": [\n          \"ramnagar\",\n          \"lodh\"\n        ],\n        \"semantic_type\": \"\",\n        \"description\": \"\"\n      }\n    }\n  ]\n}"
            }
          },
          "metadata": {},
          "execution_count": 63
        }
      ]
    },
    {
      "cell_type": "markdown",
      "source": [
        "to find the nill value in the dataframe"
      ],
      "metadata": {
        "id": "kRqvOJfPmhed"
      }
    },
    {
      "source": [
        "print(df.isnull()) # it will return true if the value is null"
      ],
      "cell_type": "code",
      "execution_count": null,
      "outputs": [
        {
          "output_type": "stream",
          "name": "stdout",
          "text": [
            "    name    age   city\n",
            "0  False  False  False\n",
            "1  False  False  False\n",
            "2  False  False  False\n",
            "3   True   True  False\n",
            "4  False  False   True\n"
          ]
        }
      ],
      "metadata": {
        "colab": {
          "base_uri": "https://localhost:8080/"
        },
        "id": "Gp1HlXDTmX-4",
        "outputId": "85771108-df5e-4a8b-85ca-018c5fbb9d29"
      }
    },
    {
      "source": [
        "print(df.isnull().sum()) # it will return the count of null in every column in the dataframe"
      ],
      "cell_type": "code",
      "execution_count": null,
      "outputs": [
        {
          "output_type": "stream",
          "name": "stdout",
          "text": [
            "name    1\n",
            "age     1\n",
            "city    1\n",
            "dtype: int64\n"
          ]
        }
      ],
      "metadata": {
        "cellView": "form",
        "colab": {
          "base_uri": "https://localhost:8080/"
        },
        "id": "8FJjO7RFl6zg",
        "outputId": "e99016f2-8126-4ba8-8625-639b553e755f"
      }
    },
    {
      "cell_type": "code",
      "source": [
        "print(df.isnull().sum().sum()) # it will return the total count of null in the dataframe"
      ],
      "metadata": {
        "colab": {
          "base_uri": "https://localhost:8080/"
        },
        "id": "6EvuBeH3kckc",
        "outputId": "9be95bf9-3208-4c8d-b83e-a1ceda59232c"
      },
      "execution_count": null,
      "outputs": [
        {
          "output_type": "stream",
          "name": "stdout",
          "text": [
            "3\n"
          ]
        }
      ]
    },
    {
      "cell_type": "markdown",
      "source": [
        "ways to clean the data\n",
        "\n",
        "1. to remove the NaN(empty data) form dataframe."
      ],
      "metadata": {
        "id": "lJzPlHHDoIdV"
      }
    },
    {
      "cell_type": "code",
      "source": [
        "newdf = df.dropna()\n",
        "print(newdf)"
      ],
      "metadata": {
        "colab": {
          "base_uri": "https://localhost:8080/"
        },
        "id": "38OehyaWoYxC",
        "outputId": "1680635a-1d16-4b83-8855-aa2181341b64"
      },
      "execution_count": null,
      "outputs": [
        {
          "output_type": "stream",
          "name": "stdout",
          "text": [
            "    name   age       city\n",
            "0  paras  23.0   ramnagar\n",
            "1   neha  22.0       lodh\n",
            "2  rohit  23.0  perumadar\n"
          ]
        }
      ]
    },
    {
      "cell_type": "code",
      "source": [
        "data ={\n",
        "    'name' : ['paras' , 'neha', 'rohit', 'paras', 'harshit',np.nan],\n",
        "    'age' : [23,22,23,23,22, np.nan],\n",
        "    'city': ['ramnagar', 'lodh', 'perumadar', 'ramnagar',np.nan, np.nan]\n",
        "}\n",
        "df = pd.DataFrame(data)\n",
        "df.head()"
      ],
      "metadata": {
        "colab": {
          "base_uri": "https://localhost:8080/",
          "height": 206
        },
        "id": "BpjajzrvFnZt",
        "outputId": "730fb2f6-ea9c-4e26-d41e-f2c6452a5102"
      },
      "execution_count": 96,
      "outputs": [
        {
          "output_type": "execute_result",
          "data": {
            "text/plain": [
              "      name   age       city\n",
              "0    paras  23.0   ramnagar\n",
              "1     neha  22.0       lodh\n",
              "2    rohit  23.0  perumadar\n",
              "3    paras  23.0   ramnagar\n",
              "4  harshit  22.0        NaN"
            ],
            "text/html": [
              "\n",
              "  <div id=\"df-21039073-9a0f-419a-a0af-83f2835a03dd\" class=\"colab-df-container\">\n",
              "    <div>\n",
              "<style scoped>\n",
              "    .dataframe tbody tr th:only-of-type {\n",
              "        vertical-align: middle;\n",
              "    }\n",
              "\n",
              "    .dataframe tbody tr th {\n",
              "        vertical-align: top;\n",
              "    }\n",
              "\n",
              "    .dataframe thead th {\n",
              "        text-align: right;\n",
              "    }\n",
              "</style>\n",
              "<table border=\"1\" class=\"dataframe\">\n",
              "  <thead>\n",
              "    <tr style=\"text-align: right;\">\n",
              "      <th></th>\n",
              "      <th>name</th>\n",
              "      <th>age</th>\n",
              "      <th>city</th>\n",
              "    </tr>\n",
              "  </thead>\n",
              "  <tbody>\n",
              "    <tr>\n",
              "      <th>0</th>\n",
              "      <td>paras</td>\n",
              "      <td>23.0</td>\n",
              "      <td>ramnagar</td>\n",
              "    </tr>\n",
              "    <tr>\n",
              "      <th>1</th>\n",
              "      <td>neha</td>\n",
              "      <td>22.0</td>\n",
              "      <td>lodh</td>\n",
              "    </tr>\n",
              "    <tr>\n",
              "      <th>2</th>\n",
              "      <td>rohit</td>\n",
              "      <td>23.0</td>\n",
              "      <td>perumadar</td>\n",
              "    </tr>\n",
              "    <tr>\n",
              "      <th>3</th>\n",
              "      <td>paras</td>\n",
              "      <td>23.0</td>\n",
              "      <td>ramnagar</td>\n",
              "    </tr>\n",
              "    <tr>\n",
              "      <th>4</th>\n",
              "      <td>harshit</td>\n",
              "      <td>22.0</td>\n",
              "      <td>NaN</td>\n",
              "    </tr>\n",
              "  </tbody>\n",
              "</table>\n",
              "</div>\n",
              "    <div class=\"colab-df-buttons\">\n",
              "\n",
              "  <div class=\"colab-df-container\">\n",
              "    <button class=\"colab-df-convert\" onclick=\"convertToInteractive('df-21039073-9a0f-419a-a0af-83f2835a03dd')\"\n",
              "            title=\"Convert this dataframe to an interactive table.\"\n",
              "            style=\"display:none;\">\n",
              "\n",
              "  <svg xmlns=\"http://www.w3.org/2000/svg\" height=\"24px\" viewBox=\"0 -960 960 960\">\n",
              "    <path d=\"M120-120v-720h720v720H120Zm60-500h600v-160H180v160Zm220 220h160v-160H400v160Zm0 220h160v-160H400v160ZM180-400h160v-160H180v160Zm440 0h160v-160H620v160ZM180-180h160v-160H180v160Zm440 0h160v-160H620v160Z\"/>\n",
              "  </svg>\n",
              "    </button>\n",
              "\n",
              "  <style>\n",
              "    .colab-df-container {\n",
              "      display:flex;\n",
              "      gap: 12px;\n",
              "    }\n",
              "\n",
              "    .colab-df-convert {\n",
              "      background-color: #E8F0FE;\n",
              "      border: none;\n",
              "      border-radius: 50%;\n",
              "      cursor: pointer;\n",
              "      display: none;\n",
              "      fill: #1967D2;\n",
              "      height: 32px;\n",
              "      padding: 0 0 0 0;\n",
              "      width: 32px;\n",
              "    }\n",
              "\n",
              "    .colab-df-convert:hover {\n",
              "      background-color: #E2EBFA;\n",
              "      box-shadow: 0px 1px 2px rgba(60, 64, 67, 0.3), 0px 1px 3px 1px rgba(60, 64, 67, 0.15);\n",
              "      fill: #174EA6;\n",
              "    }\n",
              "\n",
              "    .colab-df-buttons div {\n",
              "      margin-bottom: 4px;\n",
              "    }\n",
              "\n",
              "    [theme=dark] .colab-df-convert {\n",
              "      background-color: #3B4455;\n",
              "      fill: #D2E3FC;\n",
              "    }\n",
              "\n",
              "    [theme=dark] .colab-df-convert:hover {\n",
              "      background-color: #434B5C;\n",
              "      box-shadow: 0px 1px 3px 1px rgba(0, 0, 0, 0.15);\n",
              "      filter: drop-shadow(0px 1px 2px rgba(0, 0, 0, 0.3));\n",
              "      fill: #FFFFFF;\n",
              "    }\n",
              "  </style>\n",
              "\n",
              "    <script>\n",
              "      const buttonEl =\n",
              "        document.querySelector('#df-21039073-9a0f-419a-a0af-83f2835a03dd button.colab-df-convert');\n",
              "      buttonEl.style.display =\n",
              "        google.colab.kernel.accessAllowed ? 'block' : 'none';\n",
              "\n",
              "      async function convertToInteractive(key) {\n",
              "        const element = document.querySelector('#df-21039073-9a0f-419a-a0af-83f2835a03dd');\n",
              "        const dataTable =\n",
              "          await google.colab.kernel.invokeFunction('convertToInteractive',\n",
              "                                                    [key], {});\n",
              "        if (!dataTable) return;\n",
              "\n",
              "        const docLinkHtml = 'Like what you see? Visit the ' +\n",
              "          '<a target=\"_blank\" href=https://colab.research.google.com/notebooks/data_table.ipynb>data table notebook</a>'\n",
              "          + ' to learn more about interactive tables.';\n",
              "        element.innerHTML = '';\n",
              "        dataTable['output_type'] = 'display_data';\n",
              "        await google.colab.output.renderOutput(dataTable, element);\n",
              "        const docLink = document.createElement('div');\n",
              "        docLink.innerHTML = docLinkHtml;\n",
              "        element.appendChild(docLink);\n",
              "      }\n",
              "    </script>\n",
              "  </div>\n",
              "\n",
              "\n",
              "<div id=\"df-1d70e6a9-9aaf-4e4e-b409-194e609e6904\">\n",
              "  <button class=\"colab-df-quickchart\" onclick=\"quickchart('df-1d70e6a9-9aaf-4e4e-b409-194e609e6904')\"\n",
              "            title=\"Suggest charts\"\n",
              "            style=\"display:none;\">\n",
              "\n",
              "<svg xmlns=\"http://www.w3.org/2000/svg\" height=\"24px\"viewBox=\"0 0 24 24\"\n",
              "     width=\"24px\">\n",
              "    <g>\n",
              "        <path d=\"M19 3H5c-1.1 0-2 .9-2 2v14c0 1.1.9 2 2 2h14c1.1 0 2-.9 2-2V5c0-1.1-.9-2-2-2zM9 17H7v-7h2v7zm4 0h-2V7h2v10zm4 0h-2v-4h2v4z\"/>\n",
              "    </g>\n",
              "</svg>\n",
              "  </button>\n",
              "\n",
              "<style>\n",
              "  .colab-df-quickchart {\n",
              "      --bg-color: #E8F0FE;\n",
              "      --fill-color: #1967D2;\n",
              "      --hover-bg-color: #E2EBFA;\n",
              "      --hover-fill-color: #174EA6;\n",
              "      --disabled-fill-color: #AAA;\n",
              "      --disabled-bg-color: #DDD;\n",
              "  }\n",
              "\n",
              "  [theme=dark] .colab-df-quickchart {\n",
              "      --bg-color: #3B4455;\n",
              "      --fill-color: #D2E3FC;\n",
              "      --hover-bg-color: #434B5C;\n",
              "      --hover-fill-color: #FFFFFF;\n",
              "      --disabled-bg-color: #3B4455;\n",
              "      --disabled-fill-color: #666;\n",
              "  }\n",
              "\n",
              "  .colab-df-quickchart {\n",
              "    background-color: var(--bg-color);\n",
              "    border: none;\n",
              "    border-radius: 50%;\n",
              "    cursor: pointer;\n",
              "    display: none;\n",
              "    fill: var(--fill-color);\n",
              "    height: 32px;\n",
              "    padding: 0;\n",
              "    width: 32px;\n",
              "  }\n",
              "\n",
              "  .colab-df-quickchart:hover {\n",
              "    background-color: var(--hover-bg-color);\n",
              "    box-shadow: 0 1px 2px rgba(60, 64, 67, 0.3), 0 1px 3px 1px rgba(60, 64, 67, 0.15);\n",
              "    fill: var(--button-hover-fill-color);\n",
              "  }\n",
              "\n",
              "  .colab-df-quickchart-complete:disabled,\n",
              "  .colab-df-quickchart-complete:disabled:hover {\n",
              "    background-color: var(--disabled-bg-color);\n",
              "    fill: var(--disabled-fill-color);\n",
              "    box-shadow: none;\n",
              "  }\n",
              "\n",
              "  .colab-df-spinner {\n",
              "    border: 2px solid var(--fill-color);\n",
              "    border-color: transparent;\n",
              "    border-bottom-color: var(--fill-color);\n",
              "    animation:\n",
              "      spin 1s steps(1) infinite;\n",
              "  }\n",
              "\n",
              "  @keyframes spin {\n",
              "    0% {\n",
              "      border-color: transparent;\n",
              "      border-bottom-color: var(--fill-color);\n",
              "      border-left-color: var(--fill-color);\n",
              "    }\n",
              "    20% {\n",
              "      border-color: transparent;\n",
              "      border-left-color: var(--fill-color);\n",
              "      border-top-color: var(--fill-color);\n",
              "    }\n",
              "    30% {\n",
              "      border-color: transparent;\n",
              "      border-left-color: var(--fill-color);\n",
              "      border-top-color: var(--fill-color);\n",
              "      border-right-color: var(--fill-color);\n",
              "    }\n",
              "    40% {\n",
              "      border-color: transparent;\n",
              "      border-right-color: var(--fill-color);\n",
              "      border-top-color: var(--fill-color);\n",
              "    }\n",
              "    60% {\n",
              "      border-color: transparent;\n",
              "      border-right-color: var(--fill-color);\n",
              "    }\n",
              "    80% {\n",
              "      border-color: transparent;\n",
              "      border-right-color: var(--fill-color);\n",
              "      border-bottom-color: var(--fill-color);\n",
              "    }\n",
              "    90% {\n",
              "      border-color: transparent;\n",
              "      border-bottom-color: var(--fill-color);\n",
              "    }\n",
              "  }\n",
              "</style>\n",
              "\n",
              "  <script>\n",
              "    async function quickchart(key) {\n",
              "      const quickchartButtonEl =\n",
              "        document.querySelector('#' + key + ' button');\n",
              "      quickchartButtonEl.disabled = true;  // To prevent multiple clicks.\n",
              "      quickchartButtonEl.classList.add('colab-df-spinner');\n",
              "      try {\n",
              "        const charts = await google.colab.kernel.invokeFunction(\n",
              "            'suggestCharts', [key], {});\n",
              "      } catch (error) {\n",
              "        console.error('Error during call to suggestCharts:', error);\n",
              "      }\n",
              "      quickchartButtonEl.classList.remove('colab-df-spinner');\n",
              "      quickchartButtonEl.classList.add('colab-df-quickchart-complete');\n",
              "    }\n",
              "    (() => {\n",
              "      let quickchartButtonEl =\n",
              "        document.querySelector('#df-1d70e6a9-9aaf-4e4e-b409-194e609e6904 button');\n",
              "      quickchartButtonEl.style.display =\n",
              "        google.colab.kernel.accessAllowed ? 'block' : 'none';\n",
              "    })();\n",
              "  </script>\n",
              "</div>\n",
              "\n",
              "    </div>\n",
              "  </div>\n"
            ],
            "application/vnd.google.colaboratory.intrinsic+json": {
              "type": "dataframe",
              "variable_name": "df",
              "summary": "{\n  \"name\": \"df\",\n  \"rows\": 6,\n  \"fields\": [\n    {\n      \"column\": \"name\",\n      \"properties\": {\n        \"dtype\": \"string\",\n        \"num_unique_values\": 4,\n        \"samples\": [\n          \"neha\",\n          \"harshit\",\n          \"paras\"\n        ],\n        \"semantic_type\": \"\",\n        \"description\": \"\"\n      }\n    },\n    {\n      \"column\": \"age\",\n      \"properties\": {\n        \"dtype\": \"number\",\n        \"std\": 0.5477225575051661,\n        \"min\": 22.0,\n        \"max\": 23.0,\n        \"num_unique_values\": 2,\n        \"samples\": [\n          22.0,\n          23.0\n        ],\n        \"semantic_type\": \"\",\n        \"description\": \"\"\n      }\n    },\n    {\n      \"column\": \"city\",\n      \"properties\": {\n        \"dtype\": \"string\",\n        \"num_unique_values\": 3,\n        \"samples\": [\n          \"ramnagar\",\n          \"lodh\"\n        ],\n        \"semantic_type\": \"\",\n        \"description\": \"\"\n      }\n    }\n  ]\n}"
            }
          },
          "metadata": {},
          "execution_count": 96
        }
      ]
    },
    {
      "cell_type": "code",
      "source": [
        "# to perfom operation in the dataframe\n",
        "\n",
        "newdf = df.copy()\n",
        "newdf['age'].fillna(df['age'].mean(), inplace = True)\n",
        "print(newdf)"
      ],
      "metadata": {
        "colab": {
          "base_uri": "https://localhost:8080/"
        },
        "id": "KlCyukiks6d8",
        "outputId": "0ab415f6-ae4e-4af2-cf63-096c5f5d31ef"
      },
      "execution_count": 87,
      "outputs": [
        {
          "output_type": "stream",
          "name": "stdout",
          "text": [
            "      name   age       city\n",
            "0    paras  23.0   ramnagar\n",
            "1     neha  22.0       lodh\n",
            "2    rohit  23.0  perumadar\n",
            "3      NaN  22.5   ramnagar\n",
            "4  harshit  22.0        NaN\n",
            "5      NaN  22.5        NaN\n"
          ]
        },
        {
          "output_type": "stream",
          "name": "stderr",
          "text": [
            "<ipython-input-87-77acdd07f5e9>:4: FutureWarning: A value is trying to be set on a copy of a DataFrame or Series through chained assignment using an inplace method.\n",
            "The behavior will change in pandas 3.0. This inplace method will never work because the intermediate object on which we are setting values always behaves as a copy.\n",
            "\n",
            "For example, when doing 'df[col].method(value, inplace=True)', try using 'df.method({col: value}, inplace=True)' or df[col] = df[col].method(value) instead, to perform the operation inplace on the original object.\n",
            "\n",
            "\n",
            "  newdf['age'].fillna(df['age'].mean(), inplace = True)\n"
          ]
        }
      ]
    },
    {
      "cell_type": "markdown",
      "source": [
        "remove dupliacate value in the dataframe\n",
        "\n",
        "\n",
        "note: if all the column are same then it will call duplicate then you can drop it"
      ],
      "metadata": {
        "id": "0TKTTxoNGjGq"
      }
    },
    {
      "cell_type": "code",
      "source": [
        "# df.head()\n",
        "df.duplicated()\n",
        "newdf = df.drop_duplicates()\n",
        "print(newdf)"
      ],
      "metadata": {
        "colab": {
          "base_uri": "https://localhost:8080/"
        },
        "id": "RGaYAhwdGHZk",
        "outputId": "c025087e-56d4-493f-bd27-b0112632d881"
      },
      "execution_count": 99,
      "outputs": [
        {
          "output_type": "stream",
          "name": "stdout",
          "text": [
            "      name   age       city\n",
            "0    paras  23.0   ramnagar\n",
            "1     neha  22.0       lodh\n",
            "2    rohit  23.0  perumadar\n",
            "4  harshit  22.0        NaN\n",
            "5      NaN   NaN        NaN\n"
          ]
        }
      ]
    },
    {
      "cell_type": "markdown",
      "source": [
        "remane the colunm"
      ],
      "metadata": {
        "id": "8UMTy9E2H6X1"
      }
    },
    {
      "cell_type": "code",
      "source": [
        "newdf = df.rename(columns = {'name': 'full name' , 'age' : 'new age', 'city' : 'residance city'})\n",
        "print(newdf)"
      ],
      "metadata": {
        "colab": {
          "base_uri": "https://localhost:8080/"
        },
        "id": "o_OEKm-FH8iH",
        "outputId": "b2236d5c-25dc-4c2e-b738-374590bac9ae"
      },
      "execution_count": 101,
      "outputs": [
        {
          "output_type": "stream",
          "name": "stdout",
          "text": [
            "  full name  new age residance city\n",
            "0     paras     23.0       ramnagar\n",
            "1      neha     22.0           lodh\n",
            "2     rohit     23.0      perumadar\n",
            "3     paras     23.0       ramnagar\n",
            "4   harshit     22.0            NaN\n",
            "5       NaN      NaN            NaN\n"
          ]
        }
      ]
    },
    {
      "cell_type": "markdown",
      "source": [
        "data standarsation : we make all data to the same formate (upper case, lower case) that can easily be used so error could not be occured"
      ],
      "metadata": {
        "id": "_Qj9MIO5JfyZ"
      }
    },
    {
      "cell_type": "code",
      "source": [
        "newdf = df.copy()\n",
        "newdf['name'] = newdf['name'].str.upper()\n",
        "print(newdf)"
      ],
      "metadata": {
        "colab": {
          "base_uri": "https://localhost:8080/"
        },
        "id": "GnJCL6nEJ0JH",
        "outputId": "90685064-41e4-450d-8ad0-4cd4a3fb0c15"
      },
      "execution_count": 103,
      "outputs": [
        {
          "output_type": "stream",
          "name": "stdout",
          "text": [
            "      name   age       city\n",
            "0    PARAS  23.0   ramnagar\n",
            "1     NEHA  22.0       lodh\n",
            "2    ROHIT  23.0  perumadar\n",
            "3    PARAS  23.0   ramnagar\n",
            "4  HARSHIT  22.0        NaN\n",
            "5      NaN   NaN        NaN\n"
          ]
        }
      ]
    },
    {
      "cell_type": "markdown",
      "source": [
        "applying user define funciton"
      ],
      "metadata": {
        "id": "8E3ddofHLtmT"
      }
    },
    {
      "cell_type": "code",
      "source": [
        "def increment(x):\n",
        "  return x + 5\n",
        "\n",
        "data = [(1,2,3,4),(5,6,7,8),(9,10,11,12),(13,14,15,16)]\n",
        "df = pd.DataFrame(data , columns = list('abcd'))\n",
        "print(df)\n",
        "newdf = df.apply(increment)\n",
        "print(newdf)\n",
        "\n"
      ],
      "metadata": {
        "colab": {
          "base_uri": "https://localhost:8080/"
        },
        "id": "uBRLIfaaLw09",
        "outputId": "7cdd85da-1063-4926-9099-23e71cd16c61"
      },
      "execution_count": 109,
      "outputs": [
        {
          "output_type": "stream",
          "name": "stdout",
          "text": [
            "    a   b   c   d\n",
            "0   1   2   3   4\n",
            "1   5   6   7   8\n",
            "2   9  10  11  12\n",
            "3  13  14  15  16\n",
            "    a   b   c   d\n",
            "0   6   7   8   9\n",
            "1  10  11  12  13\n",
            "2  14  15  16  17\n",
            "3  18  19  20  21\n"
          ]
        }
      ]
    },
    {
      "cell_type": "markdown",
      "source": [
        "if you want to give more argument"
      ],
      "metadata": {
        "id": "GlvoUaEbNCaU"
      }
    },
    {
      "cell_type": "code",
      "source": [
        "def increment(x,y,z):\n",
        "  return x+y+z\n",
        "\n",
        "data = [(1,2,3,4),(5,6,7,8),(9,10,11,12),(13,14,15,16)]\n",
        "df =pd.DataFrame(data, columns = list('PQRS'))\n",
        "print(df)\n",
        "\n",
        "# newdf = df.apply(increment,y = 5)\n",
        "newdf = df.apply(increment, args = [10,10])\n",
        "print(newdf)"
      ],
      "metadata": {
        "colab": {
          "base_uri": "https://localhost:8080/"
        },
        "id": "RCEB63fXNBk2",
        "outputId": "92f8a2f0-3af9-48b5-c57c-f72a4f563ad8"
      },
      "execution_count": 115,
      "outputs": [
        {
          "output_type": "stream",
          "name": "stdout",
          "text": [
            "    P   Q   R   S\n",
            "0   1   2   3   4\n",
            "1   5   6   7   8\n",
            "2   9  10  11  12\n",
            "3  13  14  15  16\n",
            "    P   Q   R   S\n",
            "0  21  22  23  24\n",
            "1  25  26  27  28\n",
            "2  29  30  31  32\n",
            "3  33  34  35  36\n"
          ]
        }
      ]
    },
    {
      "cell_type": "markdown",
      "source": [
        "loc is used to slice the data from the dataframe (particular information)"
      ],
      "metadata": {
        "id": "PhEgQLCkKmW5"
      }
    },
    {
      "cell_type": "code",
      "source": [
        "df = pd.DataFrame({'Weight': [45, 88, 56, 15, 71],\n",
        "                   'Name': ['Sam', 'Andrea', 'Alex', 'Robin', 'Kia'],\n",
        "                   'Age': [14, 25, 55, 8, 21]})\n",
        "\n",
        "# Create the index\n",
        "index_ = ['Row_1', 'Row_2', 'Row_3', 'Row_4', 'Row_5']\n",
        "df.index = index_\n",
        "print(df)\n",
        "\n",
        "print(\"-----------\")\n",
        "# print(df.loc['Row_1','Age'])\n",
        "# print(df.loc['Row_1', 'Name'])\n",
        "result = df.loc[:,['Name','Age']] # to print all the indexes(the colen will print all the indexes in the dataframe)\n",
        "result = df.loc[['Row_1','Row_2'],:] # the colen in the last will print all the columns\n",
        "result = df.loc[['Row_1','Row_2'],['Name','Age']] # by this way we can select which row and column we want and we will make a list of it\n",
        "\n",
        "result = df.loc[['Row_1',\"Row_5\"], ['Name', 'Age']]\n",
        "print(result)\n",
        "\n"
      ],
      "metadata": {
        "colab": {
          "base_uri": "https://localhost:8080/"
        },
        "id": "vXmEPxCHKlmZ",
        "outputId": "269172d6-9ffe-4524-c31b-1916f1ab34e8"
      },
      "execution_count": 51,
      "outputs": [
        {
          "output_type": "stream",
          "name": "stdout",
          "text": [
            "       Weight    Name  Age\n",
            "Row_1      45     Sam   14\n",
            "Row_2      88  Andrea   25\n",
            "Row_3      56    Alex   55\n",
            "Row_4      15   Robin    8\n",
            "Row_5      71     Kia   21\n",
            "-----------\n",
            "      Name  Age\n",
            "Row_1  Sam   14\n",
            "Row_5  Kia   21\n"
          ]
        }
      ]
    },
    {
      "cell_type": "markdown",
      "source": [],
      "metadata": {
        "id": "Me6zi1CPNAVO"
      }
    },
    {
      "cell_type": "code",
      "source": [
        "# print(df)\n",
        "result = df.iloc[0:2,::2] # it will print alternate columns (it will skip that one)\n",
        "print(result)"
      ],
      "metadata": {
        "colab": {
          "base_uri": "https://localhost:8080/"
        },
        "id": "R_20F2kFM_Zv",
        "outputId": "7ea2f989-d076-40cf-e64f-8bde769bd2bf"
      },
      "execution_count": 63,
      "outputs": [
        {
          "output_type": "stream",
          "name": "stdout",
          "text": [
            "       Weight  Age\n",
            "Row_1      45   14\n",
            "Row_2      88   25\n"
          ]
        }
      ]
    },
    {
      "cell_type": "markdown",
      "source": [
        "Using Conditions with Pandas loc"
      ],
      "metadata": {
        "id": "pd3RBsUIS8X-"
      }
    },
    {
      "cell_type": "code",
      "source": [
        "print(df)\n",
        "result = df.loc[df['Weight']>45]\n",
        "print(result)"
      ],
      "metadata": {
        "colab": {
          "base_uri": "https://localhost:8080/"
        },
        "id": "Ns8ZgRLPS7AX",
        "outputId": "20eaa033-9db8-4296-c030-dcf8c3f95add"
      },
      "execution_count": 67,
      "outputs": [
        {
          "output_type": "stream",
          "name": "stdout",
          "text": [
            "       Weight    Name  Age\n",
            "Row_1      45     Sam   14\n",
            "Row_2      88  Andrea   25\n",
            "Row_3      56    Alex   55\n",
            "Row_4      15   Robin    8\n",
            "Row_5      71     Kia   21\n",
            "       Weight    Name  Age\n",
            "Row_2      88  Andrea   25\n",
            "Row_3      56    Alex   55\n",
            "Row_5      71     Kia   21\n"
          ]
        }
      ]
    }
  ]
}